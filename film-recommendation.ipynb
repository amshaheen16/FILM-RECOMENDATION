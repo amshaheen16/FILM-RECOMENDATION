{
 "cells": [
  {
   "cell_type": "markdown",
   "id": "1ca19a85",
   "metadata": {
    "papermill": {
     "duration": 0.008701,
     "end_time": "2025-02-23T16:54:41.945978",
     "exception": false,
     "start_time": "2025-02-23T16:54:41.937277",
     "status": "completed"
    },
    "tags": []
   },
   "source": [
    "IMPORTING LIBRARY"
   ]
  },
  {
   "cell_type": "code",
   "execution_count": 1,
   "id": "3e42a1d4",
   "metadata": {
    "execution": {
     "iopub.execute_input": "2025-02-23T16:54:41.962851Z",
     "iopub.status.busy": "2025-02-23T16:54:41.962548Z",
     "iopub.status.idle": "2025-02-23T16:54:43.939082Z",
     "shell.execute_reply": "2025-02-23T16:54:43.938430Z"
    },
    "papermill": {
     "duration": 1.986687,
     "end_time": "2025-02-23T16:54:43.940599",
     "exception": false,
     "start_time": "2025-02-23T16:54:41.953912",
     "status": "completed"
    },
    "tags": []
   },
   "outputs": [],
   "source": [
    "import pandas as pd\n",
    "import numpy as np\n",
    "import matplotlib as plt\n",
    "import seaborn as sns"
   ]
  },
  {
   "cell_type": "markdown",
   "id": "62e4893a",
   "metadata": {
    "papermill": {
     "duration": 0.007578,
     "end_time": "2025-02-23T16:54:43.956397",
     "exception": false,
     "start_time": "2025-02-23T16:54:43.948819",
     "status": "completed"
    },
    "tags": []
   },
   "source": [
    "EDA"
   ]
  },
  {
   "cell_type": "code",
   "execution_count": 2,
   "id": "00ee8a5c",
   "metadata": {
    "execution": {
     "iopub.execute_input": "2025-02-23T16:54:43.972580Z",
     "iopub.status.busy": "2025-02-23T16:54:43.972201Z",
     "iopub.status.idle": "2025-02-23T16:54:59.445656Z",
     "shell.execute_reply": "2025-02-23T16:54:59.444912Z"
    },
    "papermill": {
     "duration": 15.48321,
     "end_time": "2025-02-23T16:54:59.447201",
     "exception": false,
     "start_time": "2025-02-23T16:54:43.963991",
     "status": "completed"
    },
    "tags": []
   },
   "outputs": [],
   "source": [
    "main_df = pd.read_csv('/kaggle/input/tmdb-movies-dataset-2023-930k-movies/TMDB_movie_dataset_v11.csv')"
   ]
  },
  {
   "cell_type": "code",
   "execution_count": 3,
   "id": "931f1127",
   "metadata": {
    "execution": {
     "iopub.execute_input": "2025-02-23T16:54:59.464103Z",
     "iopub.status.busy": "2025-02-23T16:54:59.463873Z",
     "iopub.status.idle": "2025-02-23T16:54:59.537439Z",
     "shell.execute_reply": "2025-02-23T16:54:59.536748Z"
    },
    "papermill": {
     "duration": 0.083494,
     "end_time": "2025-02-23T16:54:59.538994",
     "exception": false,
     "start_time": "2025-02-23T16:54:59.455500",
     "status": "completed"
    },
    "tags": []
   },
   "outputs": [],
   "source": [
    "df = main_df[main_df['vote_average']!=0]"
   ]
  },
  {
   "cell_type": "code",
   "execution_count": 4,
   "id": "1088783f",
   "metadata": {
    "execution": {
     "iopub.execute_input": "2025-02-23T16:54:59.555964Z",
     "iopub.status.busy": "2025-02-23T16:54:59.555735Z",
     "iopub.status.idle": "2025-02-23T16:54:59.561064Z",
     "shell.execute_reply": "2025-02-23T16:54:59.560487Z"
    },
    "papermill": {
     "duration": 0.014942,
     "end_time": "2025-02-23T16:54:59.562241",
     "exception": false,
     "start_time": "2025-02-23T16:54:59.547299",
     "status": "completed"
    },
    "tags": []
   },
   "outputs": [],
   "source": [
    "df.reset_index(inplace=True)"
   ]
  },
  {
   "cell_type": "code",
   "execution_count": 5,
   "id": "ddd25d6f",
   "metadata": {
    "execution": {
     "iopub.execute_input": "2025-02-23T16:54:59.578159Z",
     "iopub.status.busy": "2025-02-23T16:54:59.577922Z",
     "iopub.status.idle": "2025-02-23T16:54:59.582908Z",
     "shell.execute_reply": "2025-02-23T16:54:59.582129Z"
    },
    "papermill": {
     "duration": 0.014269,
     "end_time": "2025-02-23T16:54:59.584139",
     "exception": false,
     "start_time": "2025-02-23T16:54:59.569870",
     "status": "completed"
    },
    "tags": []
   },
   "outputs": [
    {
     "data": {
      "text/plain": [
       "(351611, 25)"
      ]
     },
     "execution_count": 5,
     "metadata": {},
     "output_type": "execute_result"
    }
   ],
   "source": [
    "df.shape"
   ]
  },
  {
   "cell_type": "code",
   "execution_count": 6,
   "id": "c0fb7572",
   "metadata": {
    "execution": {
     "iopub.execute_input": "2025-02-23T16:54:59.600301Z",
     "iopub.status.busy": "2025-02-23T16:54:59.600075Z",
     "iopub.status.idle": "2025-02-23T16:54:59.627052Z",
     "shell.execute_reply": "2025-02-23T16:54:59.626240Z"
    },
    "papermill": {
     "duration": 0.036358,
     "end_time": "2025-02-23T16:54:59.628270",
     "exception": false,
     "start_time": "2025-02-23T16:54:59.591912",
     "status": "completed"
    },
    "tags": []
   },
   "outputs": [
    {
     "data": {
      "text/html": [
       "<div>\n",
       "<style scoped>\n",
       "    .dataframe tbody tr th:only-of-type {\n",
       "        vertical-align: middle;\n",
       "    }\n",
       "\n",
       "    .dataframe tbody tr th {\n",
       "        vertical-align: top;\n",
       "    }\n",
       "\n",
       "    .dataframe thead th {\n",
       "        text-align: right;\n",
       "    }\n",
       "</style>\n",
       "<table border=\"1\" class=\"dataframe\">\n",
       "  <thead>\n",
       "    <tr style=\"text-align: right;\">\n",
       "      <th></th>\n",
       "      <th>index</th>\n",
       "      <th>id</th>\n",
       "      <th>title</th>\n",
       "      <th>vote_average</th>\n",
       "      <th>vote_count</th>\n",
       "      <th>status</th>\n",
       "      <th>release_date</th>\n",
       "      <th>revenue</th>\n",
       "      <th>runtime</th>\n",
       "      <th>adult</th>\n",
       "      <th>...</th>\n",
       "      <th>original_title</th>\n",
       "      <th>overview</th>\n",
       "      <th>popularity</th>\n",
       "      <th>poster_path</th>\n",
       "      <th>tagline</th>\n",
       "      <th>genres</th>\n",
       "      <th>production_companies</th>\n",
       "      <th>production_countries</th>\n",
       "      <th>spoken_languages</th>\n",
       "      <th>keywords</th>\n",
       "    </tr>\n",
       "  </thead>\n",
       "  <tbody>\n",
       "    <tr>\n",
       "      <th>0</th>\n",
       "      <td>0</td>\n",
       "      <td>27205</td>\n",
       "      <td>Inception</td>\n",
       "      <td>8.364</td>\n",
       "      <td>34495</td>\n",
       "      <td>Released</td>\n",
       "      <td>2010-07-15</td>\n",
       "      <td>825532764</td>\n",
       "      <td>148</td>\n",
       "      <td>False</td>\n",
       "      <td>...</td>\n",
       "      <td>Inception</td>\n",
       "      <td>Cobb, a skilled thief who commits corporate es...</td>\n",
       "      <td>83.952</td>\n",
       "      <td>/oYuLEt3zVCKq57qu2F8dT7NIa6f.jpg</td>\n",
       "      <td>Your mind is the scene of the crime.</td>\n",
       "      <td>Action, Science Fiction, Adventure</td>\n",
       "      <td>Legendary Pictures, Syncopy, Warner Bros. Pict...</td>\n",
       "      <td>United Kingdom, United States of America</td>\n",
       "      <td>English, French, Japanese, Swahili</td>\n",
       "      <td>rescue, mission, dream, airplane, paris, franc...</td>\n",
       "    </tr>\n",
       "    <tr>\n",
       "      <th>1</th>\n",
       "      <td>1</td>\n",
       "      <td>157336</td>\n",
       "      <td>Interstellar</td>\n",
       "      <td>8.417</td>\n",
       "      <td>32571</td>\n",
       "      <td>Released</td>\n",
       "      <td>2014-11-05</td>\n",
       "      <td>701729206</td>\n",
       "      <td>169</td>\n",
       "      <td>False</td>\n",
       "      <td>...</td>\n",
       "      <td>Interstellar</td>\n",
       "      <td>The adventures of a group of explorers who mak...</td>\n",
       "      <td>140.241</td>\n",
       "      <td>/gEU2QniE6E77NI6lCU6MxlNBvIx.jpg</td>\n",
       "      <td>Mankind was born on Earth. It was never meant ...</td>\n",
       "      <td>Adventure, Drama, Science Fiction</td>\n",
       "      <td>Legendary Pictures, Syncopy, Lynda Obst Produc...</td>\n",
       "      <td>United Kingdom, United States of America</td>\n",
       "      <td>English</td>\n",
       "      <td>rescue, future, spacecraft, race against time,...</td>\n",
       "    </tr>\n",
       "    <tr>\n",
       "      <th>2</th>\n",
       "      <td>2</td>\n",
       "      <td>155</td>\n",
       "      <td>The Dark Knight</td>\n",
       "      <td>8.512</td>\n",
       "      <td>30619</td>\n",
       "      <td>Released</td>\n",
       "      <td>2008-07-16</td>\n",
       "      <td>1004558444</td>\n",
       "      <td>152</td>\n",
       "      <td>False</td>\n",
       "      <td>...</td>\n",
       "      <td>The Dark Knight</td>\n",
       "      <td>Batman raises the stakes in his war on crime. ...</td>\n",
       "      <td>130.643</td>\n",
       "      <td>/qJ2tW6WMUDux911r6m7haRef0WH.jpg</td>\n",
       "      <td>Welcome to a world without rules.</td>\n",
       "      <td>Drama, Action, Crime, Thriller</td>\n",
       "      <td>DC Comics, Legendary Pictures, Syncopy, Isobel...</td>\n",
       "      <td>United Kingdom, United States of America</td>\n",
       "      <td>English, Mandarin</td>\n",
       "      <td>joker, sadism, chaos, secret identity, crime f...</td>\n",
       "    </tr>\n",
       "    <tr>\n",
       "      <th>3</th>\n",
       "      <td>3</td>\n",
       "      <td>19995</td>\n",
       "      <td>Avatar</td>\n",
       "      <td>7.573</td>\n",
       "      <td>29815</td>\n",
       "      <td>Released</td>\n",
       "      <td>2009-12-15</td>\n",
       "      <td>2923706026</td>\n",
       "      <td>162</td>\n",
       "      <td>False</td>\n",
       "      <td>...</td>\n",
       "      <td>Avatar</td>\n",
       "      <td>In the 22nd century, a paraplegic Marine is di...</td>\n",
       "      <td>79.932</td>\n",
       "      <td>/kyeqWdyUXW608qlYkRqosgbbJyK.jpg</td>\n",
       "      <td>Enter the world of Pandora.</td>\n",
       "      <td>Action, Adventure, Fantasy, Science Fiction</td>\n",
       "      <td>Dune Entertainment, Lightstorm Entertainment, ...</td>\n",
       "      <td>United States of America, United Kingdom</td>\n",
       "      <td>English, Spanish</td>\n",
       "      <td>future, society, culture clash, space travel, ...</td>\n",
       "    </tr>\n",
       "    <tr>\n",
       "      <th>4</th>\n",
       "      <td>4</td>\n",
       "      <td>24428</td>\n",
       "      <td>The Avengers</td>\n",
       "      <td>7.710</td>\n",
       "      <td>29166</td>\n",
       "      <td>Released</td>\n",
       "      <td>2012-04-25</td>\n",
       "      <td>1518815515</td>\n",
       "      <td>143</td>\n",
       "      <td>False</td>\n",
       "      <td>...</td>\n",
       "      <td>The Avengers</td>\n",
       "      <td>When an unexpected enemy emerges and threatens...</td>\n",
       "      <td>98.082</td>\n",
       "      <td>/RYMX2wcKCBAr24UyPD7xwmjaTn.jpg</td>\n",
       "      <td>Some assembly required.</td>\n",
       "      <td>Science Fiction, Action, Adventure</td>\n",
       "      <td>Marvel Studios</td>\n",
       "      <td>United States of America</td>\n",
       "      <td>English, Hindi, Russian</td>\n",
       "      <td>new york city, superhero, shield, based on com...</td>\n",
       "    </tr>\n",
       "  </tbody>\n",
       "</table>\n",
       "<p>5 rows × 25 columns</p>\n",
       "</div>"
      ],
      "text/plain": [
       "   index      id            title  vote_average  vote_count    status  \\\n",
       "0      0   27205        Inception         8.364       34495  Released   \n",
       "1      1  157336     Interstellar         8.417       32571  Released   \n",
       "2      2     155  The Dark Knight         8.512       30619  Released   \n",
       "3      3   19995           Avatar         7.573       29815  Released   \n",
       "4      4   24428     The Avengers         7.710       29166  Released   \n",
       "\n",
       "  release_date     revenue  runtime  adult  ...   original_title  \\\n",
       "0   2010-07-15   825532764      148  False  ...        Inception   \n",
       "1   2014-11-05   701729206      169  False  ...     Interstellar   \n",
       "2   2008-07-16  1004558444      152  False  ...  The Dark Knight   \n",
       "3   2009-12-15  2923706026      162  False  ...           Avatar   \n",
       "4   2012-04-25  1518815515      143  False  ...     The Avengers   \n",
       "\n",
       "                                            overview popularity  \\\n",
       "0  Cobb, a skilled thief who commits corporate es...     83.952   \n",
       "1  The adventures of a group of explorers who mak...    140.241   \n",
       "2  Batman raises the stakes in his war on crime. ...    130.643   \n",
       "3  In the 22nd century, a paraplegic Marine is di...     79.932   \n",
       "4  When an unexpected enemy emerges and threatens...     98.082   \n",
       "\n",
       "                        poster_path  \\\n",
       "0  /oYuLEt3zVCKq57qu2F8dT7NIa6f.jpg   \n",
       "1  /gEU2QniE6E77NI6lCU6MxlNBvIx.jpg   \n",
       "2  /qJ2tW6WMUDux911r6m7haRef0WH.jpg   \n",
       "3  /kyeqWdyUXW608qlYkRqosgbbJyK.jpg   \n",
       "4   /RYMX2wcKCBAr24UyPD7xwmjaTn.jpg   \n",
       "\n",
       "                                             tagline  \\\n",
       "0               Your mind is the scene of the crime.   \n",
       "1  Mankind was born on Earth. It was never meant ...   \n",
       "2                  Welcome to a world without rules.   \n",
       "3                        Enter the world of Pandora.   \n",
       "4                            Some assembly required.   \n",
       "\n",
       "                                        genres  \\\n",
       "0           Action, Science Fiction, Adventure   \n",
       "1            Adventure, Drama, Science Fiction   \n",
       "2               Drama, Action, Crime, Thriller   \n",
       "3  Action, Adventure, Fantasy, Science Fiction   \n",
       "4           Science Fiction, Action, Adventure   \n",
       "\n",
       "                                production_companies  \\\n",
       "0  Legendary Pictures, Syncopy, Warner Bros. Pict...   \n",
       "1  Legendary Pictures, Syncopy, Lynda Obst Produc...   \n",
       "2  DC Comics, Legendary Pictures, Syncopy, Isobel...   \n",
       "3  Dune Entertainment, Lightstorm Entertainment, ...   \n",
       "4                                     Marvel Studios   \n",
       "\n",
       "                       production_countries  \\\n",
       "0  United Kingdom, United States of America   \n",
       "1  United Kingdom, United States of America   \n",
       "2  United Kingdom, United States of America   \n",
       "3  United States of America, United Kingdom   \n",
       "4                  United States of America   \n",
       "\n",
       "                     spoken_languages  \\\n",
       "0  English, French, Japanese, Swahili   \n",
       "1                             English   \n",
       "2                   English, Mandarin   \n",
       "3                    English, Spanish   \n",
       "4             English, Hindi, Russian   \n",
       "\n",
       "                                            keywords  \n",
       "0  rescue, mission, dream, airplane, paris, franc...  \n",
       "1  rescue, future, spacecraft, race against time,...  \n",
       "2  joker, sadism, chaos, secret identity, crime f...  \n",
       "3  future, society, culture clash, space travel, ...  \n",
       "4  new york city, superhero, shield, based on com...  \n",
       "\n",
       "[5 rows x 25 columns]"
      ]
     },
     "execution_count": 6,
     "metadata": {},
     "output_type": "execute_result"
    }
   ],
   "source": [
    "df.head()"
   ]
  },
  {
   "cell_type": "markdown",
   "id": "24582780",
   "metadata": {
    "papermill": {
     "duration": 0.007878,
     "end_time": "2025-02-23T16:54:59.644277",
     "exception": false,
     "start_time": "2025-02-23T16:54:59.636399",
     "status": "completed"
    },
    "tags": []
   },
   "source": [
    "Features Selection"
   ]
  },
  {
   "cell_type": "code",
   "execution_count": 7,
   "id": "d8ede179",
   "metadata": {
    "execution": {
     "iopub.execute_input": "2025-02-23T16:54:59.660857Z",
     "iopub.status.busy": "2025-02-23T16:54:59.660657Z",
     "iopub.status.idle": "2025-02-23T16:54:59.665012Z",
     "shell.execute_reply": "2025-02-23T16:54:59.664391Z"
    },
    "papermill": {
     "duration": 0.014153,
     "end_time": "2025-02-23T16:54:59.666272",
     "exception": false,
     "start_time": "2025-02-23T16:54:59.652119",
     "status": "completed"
    },
    "tags": []
   },
   "outputs": [
    {
     "data": {
      "text/plain": [
       "Index(['index', 'id', 'title', 'vote_average', 'vote_count', 'status',\n",
       "       'release_date', 'revenue', 'runtime', 'adult', 'backdrop_path',\n",
       "       'budget', 'homepage', 'imdb_id', 'original_language', 'original_title',\n",
       "       'overview', 'popularity', 'poster_path', 'tagline', 'genres',\n",
       "       'production_companies', 'production_countries', 'spoken_languages',\n",
       "       'keywords'],\n",
       "      dtype='object')"
      ]
     },
     "execution_count": 7,
     "metadata": {},
     "output_type": "execute_result"
    }
   ],
   "source": [
    "df.columns"
   ]
  },
  {
   "cell_type": "code",
   "execution_count": 8,
   "id": "20125800",
   "metadata": {
    "execution": {
     "iopub.execute_input": "2025-02-23T16:54:59.683154Z",
     "iopub.status.busy": "2025-02-23T16:54:59.682951Z",
     "iopub.status.idle": "2025-02-23T16:54:59.695349Z",
     "shell.execute_reply": "2025-02-23T16:54:59.694797Z"
    },
    "papermill": {
     "duration": 0.022036,
     "end_time": "2025-02-23T16:54:59.696448",
     "exception": false,
     "start_time": "2025-02-23T16:54:59.674412",
     "status": "completed"
    },
    "tags": []
   },
   "outputs": [],
   "source": [
    "df = df.drop( ['index','id' , 'vote_count' , 'status' , 'release_date', 'revenue' , 'backdrop_path',\n",
    "              'budget','homepage','imdb_id','original_title' , 'overview','poster_path',\n",
    "              'tagline' , 'production_companies','production_countries' ,'spoken_languages' ,'keywords'], axis=1)"
   ]
  },
  {
   "cell_type": "code",
   "execution_count": 9,
   "id": "3336b1d3",
   "metadata": {
    "execution": {
     "iopub.execute_input": "2025-02-23T16:54:59.713789Z",
     "iopub.status.busy": "2025-02-23T16:54:59.713589Z",
     "iopub.status.idle": "2025-02-23T16:54:59.722455Z",
     "shell.execute_reply": "2025-02-23T16:54:59.721679Z"
    },
    "papermill": {
     "duration": 0.018795,
     "end_time": "2025-02-23T16:54:59.723690",
     "exception": false,
     "start_time": "2025-02-23T16:54:59.704895",
     "status": "completed"
    },
    "tags": []
   },
   "outputs": [
    {
     "data": {
      "text/html": [
       "<div>\n",
       "<style scoped>\n",
       "    .dataframe tbody tr th:only-of-type {\n",
       "        vertical-align: middle;\n",
       "    }\n",
       "\n",
       "    .dataframe tbody tr th {\n",
       "        vertical-align: top;\n",
       "    }\n",
       "\n",
       "    .dataframe thead th {\n",
       "        text-align: right;\n",
       "    }\n",
       "</style>\n",
       "<table border=\"1\" class=\"dataframe\">\n",
       "  <thead>\n",
       "    <tr style=\"text-align: right;\">\n",
       "      <th></th>\n",
       "      <th>title</th>\n",
       "      <th>vote_average</th>\n",
       "      <th>runtime</th>\n",
       "      <th>adult</th>\n",
       "      <th>original_language</th>\n",
       "      <th>popularity</th>\n",
       "      <th>genres</th>\n",
       "    </tr>\n",
       "  </thead>\n",
       "  <tbody>\n",
       "    <tr>\n",
       "      <th>0</th>\n",
       "      <td>Inception</td>\n",
       "      <td>8.364</td>\n",
       "      <td>148</td>\n",
       "      <td>False</td>\n",
       "      <td>en</td>\n",
       "      <td>83.952</td>\n",
       "      <td>Action, Science Fiction, Adventure</td>\n",
       "    </tr>\n",
       "    <tr>\n",
       "      <th>1</th>\n",
       "      <td>Interstellar</td>\n",
       "      <td>8.417</td>\n",
       "      <td>169</td>\n",
       "      <td>False</td>\n",
       "      <td>en</td>\n",
       "      <td>140.241</td>\n",
       "      <td>Adventure, Drama, Science Fiction</td>\n",
       "    </tr>\n",
       "    <tr>\n",
       "      <th>2</th>\n",
       "      <td>The Dark Knight</td>\n",
       "      <td>8.512</td>\n",
       "      <td>152</td>\n",
       "      <td>False</td>\n",
       "      <td>en</td>\n",
       "      <td>130.643</td>\n",
       "      <td>Drama, Action, Crime, Thriller</td>\n",
       "    </tr>\n",
       "    <tr>\n",
       "      <th>3</th>\n",
       "      <td>Avatar</td>\n",
       "      <td>7.573</td>\n",
       "      <td>162</td>\n",
       "      <td>False</td>\n",
       "      <td>en</td>\n",
       "      <td>79.932</td>\n",
       "      <td>Action, Adventure, Fantasy, Science Fiction</td>\n",
       "    </tr>\n",
       "    <tr>\n",
       "      <th>4</th>\n",
       "      <td>The Avengers</td>\n",
       "      <td>7.710</td>\n",
       "      <td>143</td>\n",
       "      <td>False</td>\n",
       "      <td>en</td>\n",
       "      <td>98.082</td>\n",
       "      <td>Science Fiction, Action, Adventure</td>\n",
       "    </tr>\n",
       "  </tbody>\n",
       "</table>\n",
       "</div>"
      ],
      "text/plain": [
       "             title  vote_average  runtime  adult original_language  \\\n",
       "0        Inception         8.364      148  False                en   \n",
       "1     Interstellar         8.417      169  False                en   \n",
       "2  The Dark Knight         8.512      152  False                en   \n",
       "3           Avatar         7.573      162  False                en   \n",
       "4     The Avengers         7.710      143  False                en   \n",
       "\n",
       "   popularity                                       genres  \n",
       "0      83.952           Action, Science Fiction, Adventure  \n",
       "1     140.241            Adventure, Drama, Science Fiction  \n",
       "2     130.643               Drama, Action, Crime, Thriller  \n",
       "3      79.932  Action, Adventure, Fantasy, Science Fiction  \n",
       "4      98.082           Science Fiction, Action, Adventure  "
      ]
     },
     "execution_count": 9,
     "metadata": {},
     "output_type": "execute_result"
    }
   ],
   "source": [
    "df.head()"
   ]
  },
  {
   "cell_type": "code",
   "execution_count": 10,
   "id": "7c13cc39",
   "metadata": {
    "execution": {
     "iopub.execute_input": "2025-02-23T16:54:59.740691Z",
     "iopub.status.busy": "2025-02-23T16:54:59.740483Z",
     "iopub.status.idle": "2025-02-23T16:54:59.746581Z",
     "shell.execute_reply": "2025-02-23T16:54:59.745994Z"
    },
    "papermill": {
     "duration": 0.015823,
     "end_time": "2025-02-23T16:54:59.747699",
     "exception": false,
     "start_time": "2025-02-23T16:54:59.731876",
     "status": "completed"
    },
    "tags": []
   },
   "outputs": [],
   "source": [
    "df['org_title']=df['title']"
   ]
  },
  {
   "cell_type": "code",
   "execution_count": 11,
   "id": "8bde72b8",
   "metadata": {
    "execution": {
     "iopub.execute_input": "2025-02-23T16:54:59.764692Z",
     "iopub.status.busy": "2025-02-23T16:54:59.764486Z",
     "iopub.status.idle": "2025-02-23T16:54:59.831222Z",
     "shell.execute_reply": "2025-02-23T16:54:59.830453Z"
    },
    "papermill": {
     "duration": 0.076696,
     "end_time": "2025-02-23T16:54:59.832512",
     "exception": false,
     "start_time": "2025-02-23T16:54:59.755816",
     "status": "completed"
    },
    "tags": []
   },
   "outputs": [
    {
     "data": {
      "text/plain": [
       "title                    0\n",
       "vote_average             0\n",
       "runtime                  0\n",
       "adult                    0\n",
       "original_language        0\n",
       "popularity               0\n",
       "genres               59690\n",
       "org_title                0\n",
       "dtype: int64"
      ]
     },
     "execution_count": 11,
     "metadata": {},
     "output_type": "execute_result"
    }
   ],
   "source": [
    "df.isna().sum()"
   ]
  },
  {
   "cell_type": "code",
   "execution_count": 12,
   "id": "524c7513",
   "metadata": {
    "execution": {
     "iopub.execute_input": "2025-02-23T16:54:59.851219Z",
     "iopub.status.busy": "2025-02-23T16:54:59.850987Z",
     "iopub.status.idle": "2025-02-23T16:54:59.874129Z",
     "shell.execute_reply": "2025-02-23T16:54:59.873569Z"
    },
    "papermill": {
     "duration": 0.033471,
     "end_time": "2025-02-23T16:54:59.875430",
     "exception": false,
     "start_time": "2025-02-23T16:54:59.841959",
     "status": "completed"
    },
    "tags": []
   },
   "outputs": [],
   "source": [
    "df['genres'] = df['genres'].fillna('unknown')"
   ]
  },
  {
   "cell_type": "code",
   "execution_count": 13,
   "id": "320cb383",
   "metadata": {
    "execution": {
     "iopub.execute_input": "2025-02-23T16:54:59.892879Z",
     "iopub.status.busy": "2025-02-23T16:54:59.892646Z",
     "iopub.status.idle": "2025-02-23T16:54:59.959151Z",
     "shell.execute_reply": "2025-02-23T16:54:59.958438Z"
    },
    "papermill": {
     "duration": 0.076597,
     "end_time": "2025-02-23T16:54:59.960477",
     "exception": false,
     "start_time": "2025-02-23T16:54:59.883880",
     "status": "completed"
    },
    "tags": []
   },
   "outputs": [
    {
     "data": {
      "text/plain": [
       "title                0\n",
       "vote_average         0\n",
       "runtime              0\n",
       "adult                0\n",
       "original_language    0\n",
       "popularity           0\n",
       "genres               0\n",
       "org_title            0\n",
       "dtype: int64"
      ]
     },
     "execution_count": 13,
     "metadata": {},
     "output_type": "execute_result"
    }
   ],
   "source": [
    "df.isna().sum()"
   ]
  },
  {
   "cell_type": "code",
   "execution_count": 14,
   "id": "c79c6659",
   "metadata": {
    "execution": {
     "iopub.execute_input": "2025-02-23T16:54:59.978610Z",
     "iopub.status.busy": "2025-02-23T16:54:59.978368Z",
     "iopub.status.idle": "2025-02-23T16:55:00.186611Z",
     "shell.execute_reply": "2025-02-23T16:55:00.185821Z"
    },
    "papermill": {
     "duration": 0.218622,
     "end_time": "2025-02-23T16:55:00.187835",
     "exception": false,
     "start_time": "2025-02-23T16:54:59.969213",
     "status": "completed"
    },
    "tags": []
   },
   "outputs": [
    {
     "data": {
      "text/plain": [
       "39"
      ]
     },
     "execution_count": 14,
     "metadata": {},
     "output_type": "execute_result"
    }
   ],
   "source": [
    "df.duplicated().sum()"
   ]
  },
  {
   "cell_type": "code",
   "execution_count": 15,
   "id": "481cd87b",
   "metadata": {
    "execution": {
     "iopub.execute_input": "2025-02-23T16:55:00.206477Z",
     "iopub.status.busy": "2025-02-23T16:55:00.206202Z",
     "iopub.status.idle": "2025-02-23T16:55:00.426040Z",
     "shell.execute_reply": "2025-02-23T16:55:00.425334Z"
    },
    "papermill": {
     "duration": 0.230928,
     "end_time": "2025-02-23T16:55:00.427559",
     "exception": false,
     "start_time": "2025-02-23T16:55:00.196631",
     "status": "completed"
    },
    "tags": []
   },
   "outputs": [],
   "source": [
    "df = df.drop_duplicates()"
   ]
  },
  {
   "cell_type": "code",
   "execution_count": 16,
   "id": "db9551b3",
   "metadata": {
    "execution": {
     "iopub.execute_input": "2025-02-23T16:55:00.445743Z",
     "iopub.status.busy": "2025-02-23T16:55:00.445501Z",
     "iopub.status.idle": "2025-02-23T16:55:00.635476Z",
     "shell.execute_reply": "2025-02-23T16:55:00.634643Z"
    },
    "papermill": {
     "duration": 0.200503,
     "end_time": "2025-02-23T16:55:00.636931",
     "exception": false,
     "start_time": "2025-02-23T16:55:00.436428",
     "status": "completed"
    },
    "tags": []
   },
   "outputs": [
    {
     "data": {
      "text/plain": [
       "0"
      ]
     },
     "execution_count": 16,
     "metadata": {},
     "output_type": "execute_result"
    }
   ],
   "source": [
    "df.duplicated().sum()"
   ]
  },
  {
   "cell_type": "code",
   "execution_count": 17,
   "id": "bb802159",
   "metadata": {
    "execution": {
     "iopub.execute_input": "2025-02-23T16:55:00.655397Z",
     "iopub.status.busy": "2025-02-23T16:55:00.655115Z",
     "iopub.status.idle": "2025-02-23T16:55:00.705467Z",
     "shell.execute_reply": "2025-02-23T16:55:00.704768Z"
    },
    "papermill": {
     "duration": 0.061073,
     "end_time": "2025-02-23T16:55:00.707003",
     "exception": false,
     "start_time": "2025-02-23T16:55:00.645930",
     "status": "completed"
    },
    "tags": []
   },
   "outputs": [],
   "source": [
    "dff= df.copy()"
   ]
  },
  {
   "cell_type": "markdown",
   "id": "203225af",
   "metadata": {
    "papermill": {
     "duration": 0.008602,
     "end_time": "2025-02-23T16:55:00.724540",
     "exception": false,
     "start_time": "2025-02-23T16:55:00.715938",
     "status": "completed"
    },
    "tags": []
   },
   "source": [
    "MultiLabel Encoder¶"
   ]
  },
  {
   "cell_type": "code",
   "execution_count": 18,
   "id": "a4d91a3f",
   "metadata": {
    "execution": {
     "iopub.execute_input": "2025-02-23T16:55:00.742507Z",
     "iopub.status.busy": "2025-02-23T16:55:00.742190Z",
     "iopub.status.idle": "2025-02-23T16:55:01.367851Z",
     "shell.execute_reply": "2025-02-23T16:55:01.367119Z"
    },
    "papermill": {
     "duration": 0.636499,
     "end_time": "2025-02-23T16:55:01.369464",
     "exception": false,
     "start_time": "2025-02-23T16:55:00.732965",
     "status": "completed"
    },
    "tags": []
   },
   "outputs": [],
   "source": [
    "from sklearn.preprocessing import OneHotEncoder, MultiLabelBinarizer\n",
    "\n",
    "genre_l = dff['genres'].apply(lambda x: x.split(','))\n",
    "genre_l = pd.DataFrame(genre_l)"
   ]
  },
  {
   "cell_type": "code",
   "execution_count": 19,
   "id": "7e8ff75d",
   "metadata": {
    "execution": {
     "iopub.execute_input": "2025-02-23T16:55:01.388150Z",
     "iopub.status.busy": "2025-02-23T16:55:01.387924Z",
     "iopub.status.idle": "2025-02-23T16:55:01.397302Z",
     "shell.execute_reply": "2025-02-23T16:55:01.396569Z"
    },
    "papermill": {
     "duration": 0.020002,
     "end_time": "2025-02-23T16:55:01.398620",
     "exception": false,
     "start_time": "2025-02-23T16:55:01.378618",
     "status": "completed"
    },
    "tags": []
   },
   "outputs": [
    {
     "data": {
      "text/html": [
       "<div>\n",
       "<style scoped>\n",
       "    .dataframe tbody tr th:only-of-type {\n",
       "        vertical-align: middle;\n",
       "    }\n",
       "\n",
       "    .dataframe tbody tr th {\n",
       "        vertical-align: top;\n",
       "    }\n",
       "\n",
       "    .dataframe thead th {\n",
       "        text-align: right;\n",
       "    }\n",
       "</style>\n",
       "<table border=\"1\" class=\"dataframe\">\n",
       "  <thead>\n",
       "    <tr style=\"text-align: right;\">\n",
       "      <th></th>\n",
       "      <th>genres</th>\n",
       "    </tr>\n",
       "  </thead>\n",
       "  <tbody>\n",
       "    <tr>\n",
       "      <th>0</th>\n",
       "      <td>[Action,  Science Fiction,  Adventure]</td>\n",
       "    </tr>\n",
       "    <tr>\n",
       "      <th>1</th>\n",
       "      <td>[Adventure,  Drama,  Science Fiction]</td>\n",
       "    </tr>\n",
       "    <tr>\n",
       "      <th>2</th>\n",
       "      <td>[Drama,  Action,  Crime,  Thriller]</td>\n",
       "    </tr>\n",
       "    <tr>\n",
       "      <th>3</th>\n",
       "      <td>[Action,  Adventure,  Fantasy,  Science Fiction]</td>\n",
       "    </tr>\n",
       "    <tr>\n",
       "      <th>4</th>\n",
       "      <td>[Science Fiction,  Action,  Adventure]</td>\n",
       "    </tr>\n",
       "    <tr>\n",
       "      <th>...</th>\n",
       "      <td>...</td>\n",
       "    </tr>\n",
       "    <tr>\n",
       "      <th>351606</th>\n",
       "      <td>[unknown]</td>\n",
       "    </tr>\n",
       "    <tr>\n",
       "      <th>351607</th>\n",
       "      <td>[Science Fiction,  Drama]</td>\n",
       "    </tr>\n",
       "    <tr>\n",
       "      <th>351608</th>\n",
       "      <td>[Music,  Documentary]</td>\n",
       "    </tr>\n",
       "    <tr>\n",
       "      <th>351609</th>\n",
       "      <td>[Documentary]</td>\n",
       "    </tr>\n",
       "    <tr>\n",
       "      <th>351610</th>\n",
       "      <td>[unknown]</td>\n",
       "    </tr>\n",
       "  </tbody>\n",
       "</table>\n",
       "<p>351572 rows × 1 columns</p>\n",
       "</div>"
      ],
      "text/plain": [
       "                                                  genres\n",
       "0                 [Action,  Science Fiction,  Adventure]\n",
       "1                  [Adventure,  Drama,  Science Fiction]\n",
       "2                    [Drama,  Action,  Crime,  Thriller]\n",
       "3       [Action,  Adventure,  Fantasy,  Science Fiction]\n",
       "4                 [Science Fiction,  Action,  Adventure]\n",
       "...                                                  ...\n",
       "351606                                         [unknown]\n",
       "351607                         [Science Fiction,  Drama]\n",
       "351608                             [Music,  Documentary]\n",
       "351609                                     [Documentary]\n",
       "351610                                         [unknown]\n",
       "\n",
       "[351572 rows x 1 columns]"
      ]
     },
     "execution_count": 19,
     "metadata": {},
     "output_type": "execute_result"
    }
   ],
   "source": [
    "genre_l"
   ]
  },
  {
   "cell_type": "code",
   "execution_count": 20,
   "id": "91955632",
   "metadata": {
    "execution": {
     "iopub.execute_input": "2025-02-23T16:55:01.416988Z",
     "iopub.status.busy": "2025-02-23T16:55:01.416776Z",
     "iopub.status.idle": "2025-02-23T16:55:02.002128Z",
     "shell.execute_reply": "2025-02-23T16:55:02.001439Z"
    },
    "papermill": {
     "duration": 0.596171,
     "end_time": "2025-02-23T16:55:02.003631",
     "exception": false,
     "start_time": "2025-02-23T16:55:01.407460",
     "status": "completed"
    },
    "tags": []
   },
   "outputs": [],
   "source": [
    "genre_l['genres'] = genre_l['genres'].apply(lambda x :[ y.strip().lower().replace(' ','') for y in x] )"
   ]
  },
  {
   "cell_type": "code",
   "execution_count": 21,
   "id": "f3ad7590",
   "metadata": {
    "execution": {
     "iopub.execute_input": "2025-02-23T16:55:02.022369Z",
     "iopub.status.busy": "2025-02-23T16:55:02.022087Z",
     "iopub.status.idle": "2025-02-23T16:55:02.332108Z",
     "shell.execute_reply": "2025-02-23T16:55:02.331162Z"
    },
    "papermill": {
     "duration": 0.321067,
     "end_time": "2025-02-23T16:55:02.333816",
     "exception": false,
     "start_time": "2025-02-23T16:55:02.012749",
     "status": "completed"
    },
    "tags": []
   },
   "outputs": [],
   "source": [
    "MLB = MultiLabelBinarizer()\n",
    "\n",
    "genre_encoded = MLB.fit_transform(genre_l['genres'])"
   ]
  },
  {
   "cell_type": "code",
   "execution_count": 22,
   "id": "88c34ce9",
   "metadata": {
    "execution": {
     "iopub.execute_input": "2025-02-23T16:55:02.352986Z",
     "iopub.status.busy": "2025-02-23T16:55:02.352708Z",
     "iopub.status.idle": "2025-02-23T16:55:02.357874Z",
     "shell.execute_reply": "2025-02-23T16:55:02.357010Z"
    },
    "papermill": {
     "duration": 0.016061,
     "end_time": "2025-02-23T16:55:02.359128",
     "exception": false,
     "start_time": "2025-02-23T16:55:02.343067",
     "status": "completed"
    },
    "tags": []
   },
   "outputs": [
    {
     "data": {
      "text/plain": [
       "array([[1, 1, 0, ..., 0, 0, 0],\n",
       "       [0, 1, 0, ..., 0, 0, 0],\n",
       "       [1, 0, 0, ..., 0, 0, 0],\n",
       "       ...,\n",
       "       [0, 0, 0, ..., 0, 0, 0],\n",
       "       [0, 0, 0, ..., 0, 0, 0],\n",
       "       [0, 0, 0, ..., 1, 0, 0]])"
      ]
     },
     "execution_count": 22,
     "metadata": {},
     "output_type": "execute_result"
    }
   ],
   "source": [
    "genre_encoded"
   ]
  },
  {
   "cell_type": "code",
   "execution_count": 23,
   "id": "257ebca5",
   "metadata": {
    "execution": {
     "iopub.execute_input": "2025-02-23T16:55:02.378189Z",
     "iopub.status.busy": "2025-02-23T16:55:02.377934Z",
     "iopub.status.idle": "2025-02-23T16:55:02.453579Z",
     "shell.execute_reply": "2025-02-23T16:55:02.452631Z"
    },
    "papermill": {
     "duration": 0.08658,
     "end_time": "2025-02-23T16:55:02.455151",
     "exception": false,
     "start_time": "2025-02-23T16:55:02.368571",
     "status": "completed"
    },
    "tags": []
   },
   "outputs": [],
   "source": [
    "genre_encoded_df = pd.DataFrame(genre_encoded, columns=MLB.classes_)\n",
    "genre_encoded_df=genre_encoded_df.reset_index()"
   ]
  },
  {
   "cell_type": "code",
   "execution_count": 24,
   "id": "c6eb8e92",
   "metadata": {
    "execution": {
     "iopub.execute_input": "2025-02-23T16:55:02.474062Z",
     "iopub.status.busy": "2025-02-23T16:55:02.473820Z",
     "iopub.status.idle": "2025-02-23T16:55:02.504940Z",
     "shell.execute_reply": "2025-02-23T16:55:02.504219Z"
    },
    "papermill": {
     "duration": 0.042065,
     "end_time": "2025-02-23T16:55:02.506507",
     "exception": false,
     "start_time": "2025-02-23T16:55:02.464442",
     "status": "completed"
    },
    "tags": []
   },
   "outputs": [],
   "source": [
    "mod_df = dff.drop(['genres'],axis=1)\n",
    "mod_df=mod_df.reset_index()"
   ]
  },
  {
   "cell_type": "code",
   "execution_count": 25,
   "id": "3a10e777",
   "metadata": {
    "execution": {
     "iopub.execute_input": "2025-02-23T16:55:02.525973Z",
     "iopub.status.busy": "2025-02-23T16:55:02.525721Z",
     "iopub.status.idle": "2025-02-23T16:55:02.650176Z",
     "shell.execute_reply": "2025-02-23T16:55:02.649492Z"
    },
    "papermill": {
     "duration": 0.136183,
     "end_time": "2025-02-23T16:55:02.651823",
     "exception": false,
     "start_time": "2025-02-23T16:55:02.515640",
     "status": "completed"
    },
    "tags": []
   },
   "outputs": [],
   "source": [
    "df = pd.concat([mod_df,genre_encoded_df],axis=1).drop('index',axis=1)"
   ]
  },
  {
   "cell_type": "code",
   "execution_count": 26,
   "id": "8939893a",
   "metadata": {
    "execution": {
     "iopub.execute_input": "2025-02-23T16:55:02.670964Z",
     "iopub.status.busy": "2025-02-23T16:55:02.670727Z",
     "iopub.status.idle": "2025-02-23T16:55:02.685204Z",
     "shell.execute_reply": "2025-02-23T16:55:02.684427Z"
    },
    "papermill": {
     "duration": 0.025023,
     "end_time": "2025-02-23T16:55:02.686409",
     "exception": false,
     "start_time": "2025-02-23T16:55:02.661386",
     "status": "completed"
    },
    "tags": []
   },
   "outputs": [
    {
     "data": {
      "text/html": [
       "<div>\n",
       "<style scoped>\n",
       "    .dataframe tbody tr th:only-of-type {\n",
       "        vertical-align: middle;\n",
       "    }\n",
       "\n",
       "    .dataframe tbody tr th {\n",
       "        vertical-align: top;\n",
       "    }\n",
       "\n",
       "    .dataframe thead th {\n",
       "        text-align: right;\n",
       "    }\n",
       "</style>\n",
       "<table border=\"1\" class=\"dataframe\">\n",
       "  <thead>\n",
       "    <tr style=\"text-align: right;\">\n",
       "      <th></th>\n",
       "      <th>title</th>\n",
       "      <th>vote_average</th>\n",
       "      <th>runtime</th>\n",
       "      <th>adult</th>\n",
       "      <th>original_language</th>\n",
       "      <th>popularity</th>\n",
       "      <th>org_title</th>\n",
       "      <th>action</th>\n",
       "      <th>adventure</th>\n",
       "      <th>animation</th>\n",
       "      <th>...</th>\n",
       "      <th>horror</th>\n",
       "      <th>music</th>\n",
       "      <th>mystery</th>\n",
       "      <th>romance</th>\n",
       "      <th>sciencefiction</th>\n",
       "      <th>thriller</th>\n",
       "      <th>tvmovie</th>\n",
       "      <th>unknown</th>\n",
       "      <th>war</th>\n",
       "      <th>western</th>\n",
       "    </tr>\n",
       "  </thead>\n",
       "  <tbody>\n",
       "    <tr>\n",
       "      <th>0</th>\n",
       "      <td>Inception</td>\n",
       "      <td>8.364</td>\n",
       "      <td>148</td>\n",
       "      <td>False</td>\n",
       "      <td>en</td>\n",
       "      <td>83.952</td>\n",
       "      <td>Inception</td>\n",
       "      <td>1</td>\n",
       "      <td>1</td>\n",
       "      <td>0</td>\n",
       "      <td>...</td>\n",
       "      <td>0</td>\n",
       "      <td>0</td>\n",
       "      <td>0</td>\n",
       "      <td>0</td>\n",
       "      <td>1</td>\n",
       "      <td>0</td>\n",
       "      <td>0</td>\n",
       "      <td>0</td>\n",
       "      <td>0</td>\n",
       "      <td>0</td>\n",
       "    </tr>\n",
       "    <tr>\n",
       "      <th>1</th>\n",
       "      <td>Interstellar</td>\n",
       "      <td>8.417</td>\n",
       "      <td>169</td>\n",
       "      <td>False</td>\n",
       "      <td>en</td>\n",
       "      <td>140.241</td>\n",
       "      <td>Interstellar</td>\n",
       "      <td>0</td>\n",
       "      <td>1</td>\n",
       "      <td>0</td>\n",
       "      <td>...</td>\n",
       "      <td>0</td>\n",
       "      <td>0</td>\n",
       "      <td>0</td>\n",
       "      <td>0</td>\n",
       "      <td>1</td>\n",
       "      <td>0</td>\n",
       "      <td>0</td>\n",
       "      <td>0</td>\n",
       "      <td>0</td>\n",
       "      <td>0</td>\n",
       "    </tr>\n",
       "    <tr>\n",
       "      <th>2</th>\n",
       "      <td>The Dark Knight</td>\n",
       "      <td>8.512</td>\n",
       "      <td>152</td>\n",
       "      <td>False</td>\n",
       "      <td>en</td>\n",
       "      <td>130.643</td>\n",
       "      <td>The Dark Knight</td>\n",
       "      <td>1</td>\n",
       "      <td>0</td>\n",
       "      <td>0</td>\n",
       "      <td>...</td>\n",
       "      <td>0</td>\n",
       "      <td>0</td>\n",
       "      <td>0</td>\n",
       "      <td>0</td>\n",
       "      <td>0</td>\n",
       "      <td>1</td>\n",
       "      <td>0</td>\n",
       "      <td>0</td>\n",
       "      <td>0</td>\n",
       "      <td>0</td>\n",
       "    </tr>\n",
       "    <tr>\n",
       "      <th>3</th>\n",
       "      <td>Avatar</td>\n",
       "      <td>7.573</td>\n",
       "      <td>162</td>\n",
       "      <td>False</td>\n",
       "      <td>en</td>\n",
       "      <td>79.932</td>\n",
       "      <td>Avatar</td>\n",
       "      <td>1</td>\n",
       "      <td>1</td>\n",
       "      <td>0</td>\n",
       "      <td>...</td>\n",
       "      <td>0</td>\n",
       "      <td>0</td>\n",
       "      <td>0</td>\n",
       "      <td>0</td>\n",
       "      <td>1</td>\n",
       "      <td>0</td>\n",
       "      <td>0</td>\n",
       "      <td>0</td>\n",
       "      <td>0</td>\n",
       "      <td>0</td>\n",
       "    </tr>\n",
       "    <tr>\n",
       "      <th>4</th>\n",
       "      <td>The Avengers</td>\n",
       "      <td>7.710</td>\n",
       "      <td>143</td>\n",
       "      <td>False</td>\n",
       "      <td>en</td>\n",
       "      <td>98.082</td>\n",
       "      <td>The Avengers</td>\n",
       "      <td>1</td>\n",
       "      <td>1</td>\n",
       "      <td>0</td>\n",
       "      <td>...</td>\n",
       "      <td>0</td>\n",
       "      <td>0</td>\n",
       "      <td>0</td>\n",
       "      <td>0</td>\n",
       "      <td>1</td>\n",
       "      <td>0</td>\n",
       "      <td>0</td>\n",
       "      <td>0</td>\n",
       "      <td>0</td>\n",
       "      <td>0</td>\n",
       "    </tr>\n",
       "  </tbody>\n",
       "</table>\n",
       "<p>5 rows × 27 columns</p>\n",
       "</div>"
      ],
      "text/plain": [
       "             title  vote_average  runtime  adult original_language  \\\n",
       "0        Inception         8.364      148  False                en   \n",
       "1     Interstellar         8.417      169  False                en   \n",
       "2  The Dark Knight         8.512      152  False                en   \n",
       "3           Avatar         7.573      162  False                en   \n",
       "4     The Avengers         7.710      143  False                en   \n",
       "\n",
       "   popularity        org_title  action  adventure  animation  ...  horror  \\\n",
       "0      83.952        Inception       1          1          0  ...       0   \n",
       "1     140.241     Interstellar       0          1          0  ...       0   \n",
       "2     130.643  The Dark Knight       1          0          0  ...       0   \n",
       "3      79.932           Avatar       1          1          0  ...       0   \n",
       "4      98.082     The Avengers       1          1          0  ...       0   \n",
       "\n",
       "   music  mystery  romance  sciencefiction  thriller  tvmovie  unknown  war  \\\n",
       "0      0        0        0               1         0        0        0    0   \n",
       "1      0        0        0               1         0        0        0    0   \n",
       "2      0        0        0               0         1        0        0    0   \n",
       "3      0        0        0               1         0        0        0    0   \n",
       "4      0        0        0               1         0        0        0    0   \n",
       "\n",
       "   western  \n",
       "0        0  \n",
       "1        0  \n",
       "2        0  \n",
       "3        0  \n",
       "4        0  \n",
       "\n",
       "[5 rows x 27 columns]"
      ]
     },
     "execution_count": 26,
     "metadata": {},
     "output_type": "execute_result"
    }
   ],
   "source": [
    "df.head()"
   ]
  },
  {
   "cell_type": "markdown",
   "id": "f8c18791",
   "metadata": {
    "papermill": {
     "duration": 0.008685,
     "end_time": "2025-02-23T16:55:02.704012",
     "exception": false,
     "start_time": "2025-02-23T16:55:02.695327",
     "status": "completed"
    },
    "tags": []
   },
   "source": [
    "Features Engineering"
   ]
  },
  {
   "cell_type": "code",
   "execution_count": 27,
   "id": "433c7d70",
   "metadata": {
    "execution": {
     "iopub.execute_input": "2025-02-23T16:55:02.722434Z",
     "iopub.status.busy": "2025-02-23T16:55:02.722172Z",
     "iopub.status.idle": "2025-02-23T16:55:02.993241Z",
     "shell.execute_reply": "2025-02-23T16:55:02.992578Z"
    },
    "papermill": {
     "duration": 0.282071,
     "end_time": "2025-02-23T16:55:02.994867",
     "exception": false,
     "start_time": "2025-02-23T16:55:02.712796",
     "status": "completed"
    },
    "tags": []
   },
   "outputs": [],
   "source": [
    "df['title'] = df['title'].apply(lambda x :x.strip().lower().replace(' ','') )\n",
    "df['original_language'] = df['original_language'].apply(lambda x :x.strip().lower().replace(' ','') )\n"
   ]
  },
  {
   "cell_type": "code",
   "execution_count": 28,
   "id": "2eab3297",
   "metadata": {
    "execution": {
     "iopub.execute_input": "2025-02-23T16:55:03.014502Z",
     "iopub.status.busy": "2025-02-23T16:55:03.014227Z",
     "iopub.status.idle": "2025-02-23T16:55:03.029043Z",
     "shell.execute_reply": "2025-02-23T16:55:03.028232Z"
    },
    "papermill": {
     "duration": 0.025973,
     "end_time": "2025-02-23T16:55:03.030330",
     "exception": false,
     "start_time": "2025-02-23T16:55:03.004357",
     "status": "completed"
    },
    "tags": []
   },
   "outputs": [
    {
     "data": {
      "text/html": [
       "<div>\n",
       "<style scoped>\n",
       "    .dataframe tbody tr th:only-of-type {\n",
       "        vertical-align: middle;\n",
       "    }\n",
       "\n",
       "    .dataframe tbody tr th {\n",
       "        vertical-align: top;\n",
       "    }\n",
       "\n",
       "    .dataframe thead th {\n",
       "        text-align: right;\n",
       "    }\n",
       "</style>\n",
       "<table border=\"1\" class=\"dataframe\">\n",
       "  <thead>\n",
       "    <tr style=\"text-align: right;\">\n",
       "      <th></th>\n",
       "      <th>title</th>\n",
       "      <th>vote_average</th>\n",
       "      <th>runtime</th>\n",
       "      <th>adult</th>\n",
       "      <th>original_language</th>\n",
       "      <th>popularity</th>\n",
       "      <th>org_title</th>\n",
       "      <th>action</th>\n",
       "      <th>adventure</th>\n",
       "      <th>animation</th>\n",
       "      <th>...</th>\n",
       "      <th>horror</th>\n",
       "      <th>music</th>\n",
       "      <th>mystery</th>\n",
       "      <th>romance</th>\n",
       "      <th>sciencefiction</th>\n",
       "      <th>thriller</th>\n",
       "      <th>tvmovie</th>\n",
       "      <th>unknown</th>\n",
       "      <th>war</th>\n",
       "      <th>western</th>\n",
       "    </tr>\n",
       "  </thead>\n",
       "  <tbody>\n",
       "    <tr>\n",
       "      <th>0</th>\n",
       "      <td>inception</td>\n",
       "      <td>8.364</td>\n",
       "      <td>148</td>\n",
       "      <td>False</td>\n",
       "      <td>en</td>\n",
       "      <td>83.952</td>\n",
       "      <td>Inception</td>\n",
       "      <td>1</td>\n",
       "      <td>1</td>\n",
       "      <td>0</td>\n",
       "      <td>...</td>\n",
       "      <td>0</td>\n",
       "      <td>0</td>\n",
       "      <td>0</td>\n",
       "      <td>0</td>\n",
       "      <td>1</td>\n",
       "      <td>0</td>\n",
       "      <td>0</td>\n",
       "      <td>0</td>\n",
       "      <td>0</td>\n",
       "      <td>0</td>\n",
       "    </tr>\n",
       "    <tr>\n",
       "      <th>1</th>\n",
       "      <td>interstellar</td>\n",
       "      <td>8.417</td>\n",
       "      <td>169</td>\n",
       "      <td>False</td>\n",
       "      <td>en</td>\n",
       "      <td>140.241</td>\n",
       "      <td>Interstellar</td>\n",
       "      <td>0</td>\n",
       "      <td>1</td>\n",
       "      <td>0</td>\n",
       "      <td>...</td>\n",
       "      <td>0</td>\n",
       "      <td>0</td>\n",
       "      <td>0</td>\n",
       "      <td>0</td>\n",
       "      <td>1</td>\n",
       "      <td>0</td>\n",
       "      <td>0</td>\n",
       "      <td>0</td>\n",
       "      <td>0</td>\n",
       "      <td>0</td>\n",
       "    </tr>\n",
       "    <tr>\n",
       "      <th>2</th>\n",
       "      <td>thedarkknight</td>\n",
       "      <td>8.512</td>\n",
       "      <td>152</td>\n",
       "      <td>False</td>\n",
       "      <td>en</td>\n",
       "      <td>130.643</td>\n",
       "      <td>The Dark Knight</td>\n",
       "      <td>1</td>\n",
       "      <td>0</td>\n",
       "      <td>0</td>\n",
       "      <td>...</td>\n",
       "      <td>0</td>\n",
       "      <td>0</td>\n",
       "      <td>0</td>\n",
       "      <td>0</td>\n",
       "      <td>0</td>\n",
       "      <td>1</td>\n",
       "      <td>0</td>\n",
       "      <td>0</td>\n",
       "      <td>0</td>\n",
       "      <td>0</td>\n",
       "    </tr>\n",
       "    <tr>\n",
       "      <th>3</th>\n",
       "      <td>avatar</td>\n",
       "      <td>7.573</td>\n",
       "      <td>162</td>\n",
       "      <td>False</td>\n",
       "      <td>en</td>\n",
       "      <td>79.932</td>\n",
       "      <td>Avatar</td>\n",
       "      <td>1</td>\n",
       "      <td>1</td>\n",
       "      <td>0</td>\n",
       "      <td>...</td>\n",
       "      <td>0</td>\n",
       "      <td>0</td>\n",
       "      <td>0</td>\n",
       "      <td>0</td>\n",
       "      <td>1</td>\n",
       "      <td>0</td>\n",
       "      <td>0</td>\n",
       "      <td>0</td>\n",
       "      <td>0</td>\n",
       "      <td>0</td>\n",
       "    </tr>\n",
       "    <tr>\n",
       "      <th>4</th>\n",
       "      <td>theavengers</td>\n",
       "      <td>7.710</td>\n",
       "      <td>143</td>\n",
       "      <td>False</td>\n",
       "      <td>en</td>\n",
       "      <td>98.082</td>\n",
       "      <td>The Avengers</td>\n",
       "      <td>1</td>\n",
       "      <td>1</td>\n",
       "      <td>0</td>\n",
       "      <td>...</td>\n",
       "      <td>0</td>\n",
       "      <td>0</td>\n",
       "      <td>0</td>\n",
       "      <td>0</td>\n",
       "      <td>1</td>\n",
       "      <td>0</td>\n",
       "      <td>0</td>\n",
       "      <td>0</td>\n",
       "      <td>0</td>\n",
       "      <td>0</td>\n",
       "    </tr>\n",
       "  </tbody>\n",
       "</table>\n",
       "<p>5 rows × 27 columns</p>\n",
       "</div>"
      ],
      "text/plain": [
       "           title  vote_average  runtime  adult original_language  popularity  \\\n",
       "0      inception         8.364      148  False                en      83.952   \n",
       "1   interstellar         8.417      169  False                en     140.241   \n",
       "2  thedarkknight         8.512      152  False                en     130.643   \n",
       "3         avatar         7.573      162  False                en      79.932   \n",
       "4    theavengers         7.710      143  False                en      98.082   \n",
       "\n",
       "         org_title  action  adventure  animation  ...  horror  music  mystery  \\\n",
       "0        Inception       1          1          0  ...       0      0        0   \n",
       "1     Interstellar       0          1          0  ...       0      0        0   \n",
       "2  The Dark Knight       1          0          0  ...       0      0        0   \n",
       "3           Avatar       1          1          0  ...       0      0        0   \n",
       "4     The Avengers       1          1          0  ...       0      0        0   \n",
       "\n",
       "   romance  sciencefiction  thriller  tvmovie  unknown  war  western  \n",
       "0        0               1         0        0        0    0        0  \n",
       "1        0               1         0        0        0    0        0  \n",
       "2        0               0         1        0        0    0        0  \n",
       "3        0               1         0        0        0    0        0  \n",
       "4        0               1         0        0        0    0        0  \n",
       "\n",
       "[5 rows x 27 columns]"
      ]
     },
     "execution_count": 28,
     "metadata": {},
     "output_type": "execute_result"
    }
   ],
   "source": [
    "df.head()"
   ]
  },
  {
   "cell_type": "code",
   "execution_count": 29,
   "id": "db532a33",
   "metadata": {
    "execution": {
     "iopub.execute_input": "2025-02-23T16:55:03.050228Z",
     "iopub.status.busy": "2025-02-23T16:55:03.049956Z",
     "iopub.status.idle": "2025-02-23T16:55:03.182170Z",
     "shell.execute_reply": "2025-02-23T16:55:03.181256Z"
    },
    "papermill": {
     "duration": 0.143687,
     "end_time": "2025-02-23T16:55:03.183655",
     "exception": false,
     "start_time": "2025-02-23T16:55:03.039968",
     "status": "completed"
    },
    "tags": []
   },
   "outputs": [],
   "source": [
    "df.loc[~( (df['original_language']=='en')|(df['original_language']=='fr')|(df['original_language']=='es')|(df['original_language']=='de')|(df['original_language']=='ja')),'original_language'] = 'else'"
   ]
  },
  {
   "cell_type": "markdown",
   "id": "75eefe66",
   "metadata": {
    "papermill": {
     "duration": 0.009028,
     "end_time": "2025-02-23T16:55:03.202295",
     "exception": false,
     "start_time": "2025-02-23T16:55:03.193267",
     "status": "completed"
    },
    "tags": []
   },
   "source": [
    "One-Hot Encoding"
   ]
  },
  {
   "cell_type": "code",
   "execution_count": 30,
   "id": "bf957504",
   "metadata": {
    "execution": {
     "iopub.execute_input": "2025-02-23T16:55:03.257524Z",
     "iopub.status.busy": "2025-02-23T16:55:03.257194Z",
     "iopub.status.idle": "2025-02-23T16:55:03.260670Z",
     "shell.execute_reply": "2025-02-23T16:55:03.259950Z"
    },
    "papermill": {
     "duration": 0.050347,
     "end_time": "2025-02-23T16:55:03.261847",
     "exception": false,
     "start_time": "2025-02-23T16:55:03.211500",
     "status": "completed"
    },
    "tags": []
   },
   "outputs": [],
   "source": [
    "OHE = OneHotEncoder(sparse_output=False)"
   ]
  },
  {
   "cell_type": "code",
   "execution_count": 31,
   "id": "569cb027",
   "metadata": {
    "execution": {
     "iopub.execute_input": "2025-02-23T16:55:03.281095Z",
     "iopub.status.busy": "2025-02-23T16:55:03.280891Z",
     "iopub.status.idle": "2025-02-23T16:55:03.430887Z",
     "shell.execute_reply": "2025-02-23T16:55:03.430193Z"
    },
    "papermill": {
     "duration": 0.161152,
     "end_time": "2025-02-23T16:55:03.432381",
     "exception": false,
     "start_time": "2025-02-23T16:55:03.271229",
     "status": "completed"
    },
    "tags": []
   },
   "outputs": [],
   "source": [
    "df['adult'] = df['adult'].astype('str')\n",
    "adult_enc = OHE.fit_transform(df[['adult']])\n",
    "adult_enc_df = pd.DataFrame(adult_enc,columns=OHE.get_feature_names_out())\n"
   ]
  },
  {
   "cell_type": "code",
   "execution_count": 32,
   "id": "516ca35e",
   "metadata": {
    "execution": {
     "iopub.execute_input": "2025-02-23T16:55:03.452193Z",
     "iopub.status.busy": "2025-02-23T16:55:03.451956Z",
     "iopub.status.idle": "2025-02-23T16:55:03.456419Z",
     "shell.execute_reply": "2025-02-23T16:55:03.455843Z"
    },
    "papermill": {
     "duration": 0.015404,
     "end_time": "2025-02-23T16:55:03.457632",
     "exception": false,
     "start_time": "2025-02-23T16:55:03.442228",
     "status": "completed"
    },
    "tags": []
   },
   "outputs": [],
   "source": [
    "adult_enc_df = adult_enc_df.drop('adult_True',axis=1)"
   ]
  },
  {
   "cell_type": "code",
   "execution_count": 33,
   "id": "85f1098c",
   "metadata": {
    "execution": {
     "iopub.execute_input": "2025-02-23T16:55:03.476818Z",
     "iopub.status.busy": "2025-02-23T16:55:03.476614Z",
     "iopub.status.idle": "2025-02-23T16:55:03.566645Z",
     "shell.execute_reply": "2025-02-23T16:55:03.565958Z"
    },
    "papermill": {
     "duration": 0.101147,
     "end_time": "2025-02-23T16:55:03.568181",
     "exception": false,
     "start_time": "2025-02-23T16:55:03.467034",
     "status": "completed"
    },
    "tags": []
   },
   "outputs": [],
   "source": [
    "lang_enc = OHE.fit_transform(df[['original_language']])\n",
    "lang_enc_df = pd.DataFrame(lang_enc,columns=OHE.get_feature_names_out())"
   ]
  },
  {
   "cell_type": "code",
   "execution_count": 34,
   "id": "eebdef22",
   "metadata": {
    "execution": {
     "iopub.execute_input": "2025-02-23T16:55:03.587963Z",
     "iopub.status.busy": "2025-02-23T16:55:03.587704Z",
     "iopub.status.idle": "2025-02-23T16:55:03.624675Z",
     "shell.execute_reply": "2025-02-23T16:55:03.623981Z"
    },
    "papermill": {
     "duration": 0.048296,
     "end_time": "2025-02-23T16:55:03.626224",
     "exception": false,
     "start_time": "2025-02-23T16:55:03.577928",
     "status": "completed"
    },
    "tags": []
   },
   "outputs": [],
   "source": [
    "mod_df = df.drop(['adult','original_language'],axis=1)"
   ]
  },
  {
   "cell_type": "code",
   "execution_count": 35,
   "id": "066f424b",
   "metadata": {
    "execution": {
     "iopub.execute_input": "2025-02-23T16:55:03.646104Z",
     "iopub.status.busy": "2025-02-23T16:55:03.645850Z",
     "iopub.status.idle": "2025-02-23T16:55:03.747949Z",
     "shell.execute_reply": "2025-02-23T16:55:03.747246Z"
    },
    "papermill": {
     "duration": 0.113508,
     "end_time": "2025-02-23T16:55:03.749446",
     "exception": false,
     "start_time": "2025-02-23T16:55:03.635938",
     "status": "completed"
    },
    "tags": []
   },
   "outputs": [],
   "source": [
    "df = pd.concat([mod_df,adult_enc_df,lang_enc_df],axis=1)"
   ]
  },
  {
   "cell_type": "code",
   "execution_count": 36,
   "id": "38f80700",
   "metadata": {
    "execution": {
     "iopub.execute_input": "2025-02-23T16:55:03.769695Z",
     "iopub.status.busy": "2025-02-23T16:55:03.769448Z",
     "iopub.status.idle": "2025-02-23T16:55:03.787037Z",
     "shell.execute_reply": "2025-02-23T16:55:03.786323Z"
    },
    "papermill": {
     "duration": 0.028911,
     "end_time": "2025-02-23T16:55:03.788313",
     "exception": false,
     "start_time": "2025-02-23T16:55:03.759402",
     "status": "completed"
    },
    "tags": []
   },
   "outputs": [
    {
     "data": {
      "text/html": [
       "<div>\n",
       "<style scoped>\n",
       "    .dataframe tbody tr th:only-of-type {\n",
       "        vertical-align: middle;\n",
       "    }\n",
       "\n",
       "    .dataframe tbody tr th {\n",
       "        vertical-align: top;\n",
       "    }\n",
       "\n",
       "    .dataframe thead th {\n",
       "        text-align: right;\n",
       "    }\n",
       "</style>\n",
       "<table border=\"1\" class=\"dataframe\">\n",
       "  <thead>\n",
       "    <tr style=\"text-align: right;\">\n",
       "      <th></th>\n",
       "      <th>title</th>\n",
       "      <th>vote_average</th>\n",
       "      <th>runtime</th>\n",
       "      <th>popularity</th>\n",
       "      <th>org_title</th>\n",
       "      <th>action</th>\n",
       "      <th>adventure</th>\n",
       "      <th>animation</th>\n",
       "      <th>comedy</th>\n",
       "      <th>crime</th>\n",
       "      <th>...</th>\n",
       "      <th>unknown</th>\n",
       "      <th>war</th>\n",
       "      <th>western</th>\n",
       "      <th>adult_False</th>\n",
       "      <th>original_language_de</th>\n",
       "      <th>original_language_else</th>\n",
       "      <th>original_language_en</th>\n",
       "      <th>original_language_es</th>\n",
       "      <th>original_language_fr</th>\n",
       "      <th>original_language_ja</th>\n",
       "    </tr>\n",
       "  </thead>\n",
       "  <tbody>\n",
       "    <tr>\n",
       "      <th>0</th>\n",
       "      <td>inception</td>\n",
       "      <td>8.364</td>\n",
       "      <td>148</td>\n",
       "      <td>83.952</td>\n",
       "      <td>Inception</td>\n",
       "      <td>1</td>\n",
       "      <td>1</td>\n",
       "      <td>0</td>\n",
       "      <td>0</td>\n",
       "      <td>0</td>\n",
       "      <td>...</td>\n",
       "      <td>0</td>\n",
       "      <td>0</td>\n",
       "      <td>0</td>\n",
       "      <td>1.0</td>\n",
       "      <td>0.0</td>\n",
       "      <td>0.0</td>\n",
       "      <td>1.0</td>\n",
       "      <td>0.0</td>\n",
       "      <td>0.0</td>\n",
       "      <td>0.0</td>\n",
       "    </tr>\n",
       "    <tr>\n",
       "      <th>1</th>\n",
       "      <td>interstellar</td>\n",
       "      <td>8.417</td>\n",
       "      <td>169</td>\n",
       "      <td>140.241</td>\n",
       "      <td>Interstellar</td>\n",
       "      <td>0</td>\n",
       "      <td>1</td>\n",
       "      <td>0</td>\n",
       "      <td>0</td>\n",
       "      <td>0</td>\n",
       "      <td>...</td>\n",
       "      <td>0</td>\n",
       "      <td>0</td>\n",
       "      <td>0</td>\n",
       "      <td>1.0</td>\n",
       "      <td>0.0</td>\n",
       "      <td>0.0</td>\n",
       "      <td>1.0</td>\n",
       "      <td>0.0</td>\n",
       "      <td>0.0</td>\n",
       "      <td>0.0</td>\n",
       "    </tr>\n",
       "    <tr>\n",
       "      <th>2</th>\n",
       "      <td>thedarkknight</td>\n",
       "      <td>8.512</td>\n",
       "      <td>152</td>\n",
       "      <td>130.643</td>\n",
       "      <td>The Dark Knight</td>\n",
       "      <td>1</td>\n",
       "      <td>0</td>\n",
       "      <td>0</td>\n",
       "      <td>0</td>\n",
       "      <td>1</td>\n",
       "      <td>...</td>\n",
       "      <td>0</td>\n",
       "      <td>0</td>\n",
       "      <td>0</td>\n",
       "      <td>1.0</td>\n",
       "      <td>0.0</td>\n",
       "      <td>0.0</td>\n",
       "      <td>1.0</td>\n",
       "      <td>0.0</td>\n",
       "      <td>0.0</td>\n",
       "      <td>0.0</td>\n",
       "    </tr>\n",
       "    <tr>\n",
       "      <th>3</th>\n",
       "      <td>avatar</td>\n",
       "      <td>7.573</td>\n",
       "      <td>162</td>\n",
       "      <td>79.932</td>\n",
       "      <td>Avatar</td>\n",
       "      <td>1</td>\n",
       "      <td>1</td>\n",
       "      <td>0</td>\n",
       "      <td>0</td>\n",
       "      <td>0</td>\n",
       "      <td>...</td>\n",
       "      <td>0</td>\n",
       "      <td>0</td>\n",
       "      <td>0</td>\n",
       "      <td>1.0</td>\n",
       "      <td>0.0</td>\n",
       "      <td>0.0</td>\n",
       "      <td>1.0</td>\n",
       "      <td>0.0</td>\n",
       "      <td>0.0</td>\n",
       "      <td>0.0</td>\n",
       "    </tr>\n",
       "    <tr>\n",
       "      <th>4</th>\n",
       "      <td>theavengers</td>\n",
       "      <td>7.710</td>\n",
       "      <td>143</td>\n",
       "      <td>98.082</td>\n",
       "      <td>The Avengers</td>\n",
       "      <td>1</td>\n",
       "      <td>1</td>\n",
       "      <td>0</td>\n",
       "      <td>0</td>\n",
       "      <td>0</td>\n",
       "      <td>...</td>\n",
       "      <td>0</td>\n",
       "      <td>0</td>\n",
       "      <td>0</td>\n",
       "      <td>1.0</td>\n",
       "      <td>0.0</td>\n",
       "      <td>0.0</td>\n",
       "      <td>1.0</td>\n",
       "      <td>0.0</td>\n",
       "      <td>0.0</td>\n",
       "      <td>0.0</td>\n",
       "    </tr>\n",
       "  </tbody>\n",
       "</table>\n",
       "<p>5 rows × 32 columns</p>\n",
       "</div>"
      ],
      "text/plain": [
       "           title  vote_average  runtime  popularity        org_title  action  \\\n",
       "0      inception         8.364      148      83.952        Inception       1   \n",
       "1   interstellar         8.417      169     140.241     Interstellar       0   \n",
       "2  thedarkknight         8.512      152     130.643  The Dark Knight       1   \n",
       "3         avatar         7.573      162      79.932           Avatar       1   \n",
       "4    theavengers         7.710      143      98.082     The Avengers       1   \n",
       "\n",
       "   adventure  animation  comedy  crime  ...  unknown  war  western  \\\n",
       "0          1          0       0      0  ...        0    0        0   \n",
       "1          1          0       0      0  ...        0    0        0   \n",
       "2          0          0       0      1  ...        0    0        0   \n",
       "3          1          0       0      0  ...        0    0        0   \n",
       "4          1          0       0      0  ...        0    0        0   \n",
       "\n",
       "   adult_False  original_language_de  original_language_else  \\\n",
       "0          1.0                   0.0                     0.0   \n",
       "1          1.0                   0.0                     0.0   \n",
       "2          1.0                   0.0                     0.0   \n",
       "3          1.0                   0.0                     0.0   \n",
       "4          1.0                   0.0                     0.0   \n",
       "\n",
       "   original_language_en  original_language_es  original_language_fr  \\\n",
       "0                   1.0                   0.0                   0.0   \n",
       "1                   1.0                   0.0                   0.0   \n",
       "2                   1.0                   0.0                   0.0   \n",
       "3                   1.0                   0.0                   0.0   \n",
       "4                   1.0                   0.0                   0.0   \n",
       "\n",
       "   original_language_ja  \n",
       "0                   0.0  \n",
       "1                   0.0  \n",
       "2                   0.0  \n",
       "3                   0.0  \n",
       "4                   0.0  \n",
       "\n",
       "[5 rows x 32 columns]"
      ]
     },
     "execution_count": 36,
     "metadata": {},
     "output_type": "execute_result"
    }
   ],
   "source": [
    "df.head()"
   ]
  },
  {
   "cell_type": "markdown",
   "id": "e9aa345a",
   "metadata": {
    "papermill": {
     "duration": 0.00912,
     "end_time": "2025-02-23T16:55:03.807123",
     "exception": false,
     "start_time": "2025-02-23T16:55:03.798003",
     "status": "completed"
    },
    "tags": []
   },
   "source": [
    "Normalization"
   ]
  },
  {
   "cell_type": "code",
   "execution_count": 37,
   "id": "b1ddc6b2",
   "metadata": {
    "execution": {
     "iopub.execute_input": "2025-02-23T16:55:03.826743Z",
     "iopub.status.busy": "2025-02-23T16:55:03.826530Z",
     "iopub.status.idle": "2025-02-23T16:55:03.829333Z",
     "shell.execute_reply": "2025-02-23T16:55:03.828779Z"
    },
    "papermill": {
     "duration": 0.014061,
     "end_time": "2025-02-23T16:55:03.830599",
     "exception": false,
     "start_time": "2025-02-23T16:55:03.816538",
     "status": "completed"
    },
    "tags": []
   },
   "outputs": [],
   "source": [
    "from sklearn.preprocessing import StandardScaler\n",
    "SC = StandardScaler()"
   ]
  },
  {
   "cell_type": "code",
   "execution_count": 38,
   "id": "ab5b9a90",
   "metadata": {
    "execution": {
     "iopub.execute_input": "2025-02-23T16:55:03.850114Z",
     "iopub.status.busy": "2025-02-23T16:55:03.849917Z",
     "iopub.status.idle": "2025-02-23T16:55:04.119437Z",
     "shell.execute_reply": "2025-02-23T16:55:04.118700Z"
    },
    "papermill": {
     "duration": 0.28112,
     "end_time": "2025-02-23T16:55:04.121166",
     "exception": false,
     "start_time": "2025-02-23T16:55:03.840046",
     "status": "completed"
    },
    "tags": []
   },
   "outputs": [],
   "source": [
    "df_norm = SC.fit_transform(df.drop(['title','org_title'],axis=1))\n",
    "df_norm_df = pd.DataFrame(df_norm, columns=[x for x in df.columns if x not in ['title', 'org_title']])"
   ]
  },
  {
   "cell_type": "code",
   "execution_count": 39,
   "id": "ab981077",
   "metadata": {
    "execution": {
     "iopub.execute_input": "2025-02-23T16:55:04.143126Z",
     "iopub.status.busy": "2025-02-23T16:55:04.142884Z",
     "iopub.status.idle": "2025-02-23T16:55:04.198055Z",
     "shell.execute_reply": "2025-02-23T16:55:04.197386Z"
    },
    "papermill": {
     "duration": 0.066832,
     "end_time": "2025-02-23T16:55:04.199600",
     "exception": false,
     "start_time": "2025-02-23T16:55:04.132768",
     "status": "completed"
    },
    "tags": []
   },
   "outputs": [],
   "source": [
    "df = pd.concat([df[['title','org_title']],df_norm_df],axis=1)"
   ]
  },
  {
   "cell_type": "code",
   "execution_count": 40,
   "id": "6013c62f",
   "metadata": {
    "execution": {
     "iopub.execute_input": "2025-02-23T16:55:04.220096Z",
     "iopub.status.busy": "2025-02-23T16:55:04.219844Z",
     "iopub.status.idle": "2025-02-23T16:55:04.237319Z",
     "shell.execute_reply": "2025-02-23T16:55:04.236559Z"
    },
    "papermill": {
     "duration": 0.029091,
     "end_time": "2025-02-23T16:55:04.238714",
     "exception": false,
     "start_time": "2025-02-23T16:55:04.209623",
     "status": "completed"
    },
    "tags": []
   },
   "outputs": [
    {
     "data": {
      "text/html": [
       "<div>\n",
       "<style scoped>\n",
       "    .dataframe tbody tr th:only-of-type {\n",
       "        vertical-align: middle;\n",
       "    }\n",
       "\n",
       "    .dataframe tbody tr th {\n",
       "        vertical-align: top;\n",
       "    }\n",
       "\n",
       "    .dataframe thead th {\n",
       "        text-align: right;\n",
       "    }\n",
       "</style>\n",
       "<table border=\"1\" class=\"dataframe\">\n",
       "  <thead>\n",
       "    <tr style=\"text-align: right;\">\n",
       "      <th></th>\n",
       "      <th>title</th>\n",
       "      <th>org_title</th>\n",
       "      <th>vote_average</th>\n",
       "      <th>runtime</th>\n",
       "      <th>popularity</th>\n",
       "      <th>action</th>\n",
       "      <th>adventure</th>\n",
       "      <th>animation</th>\n",
       "      <th>comedy</th>\n",
       "      <th>crime</th>\n",
       "      <th>...</th>\n",
       "      <th>unknown</th>\n",
       "      <th>war</th>\n",
       "      <th>western</th>\n",
       "      <th>adult_False</th>\n",
       "      <th>original_language_de</th>\n",
       "      <th>original_language_else</th>\n",
       "      <th>original_language_en</th>\n",
       "      <th>original_language_es</th>\n",
       "      <th>original_language_fr</th>\n",
       "      <th>original_language_ja</th>\n",
       "    </tr>\n",
       "  </thead>\n",
       "  <tbody>\n",
       "    <tr>\n",
       "      <th>0</th>\n",
       "      <td>inception</td>\n",
       "      <td>Inception</td>\n",
       "      <td>1.142404</td>\n",
       "      <td>1.197553</td>\n",
       "      <td>6.077554</td>\n",
       "      <td>3.469316</td>\n",
       "      <td>4.802478</td>\n",
       "      <td>-0.254765</td>\n",
       "      <td>-0.52443</td>\n",
       "      <td>-0.246249</td>\n",
       "      <td>...</td>\n",
       "      <td>-0.452108</td>\n",
       "      <td>-0.13278</td>\n",
       "      <td>-0.113892</td>\n",
       "      <td>0.244856</td>\n",
       "      <td>-0.214454</td>\n",
       "      <td>-0.589881</td>\n",
       "      <td>0.962327</td>\n",
       "      <td>-0.272904</td>\n",
       "      <td>-0.275375</td>\n",
       "      <td>-0.201189</td>\n",
       "    </tr>\n",
       "    <tr>\n",
       "      <th>1</th>\n",
       "      <td>interstellar</td>\n",
       "      <td>Interstellar</td>\n",
       "      <td>1.169278</td>\n",
       "      <td>1.520199</td>\n",
       "      <td>10.282470</td>\n",
       "      <td>-0.288241</td>\n",
       "      <td>4.802478</td>\n",
       "      <td>-0.254765</td>\n",
       "      <td>-0.52443</td>\n",
       "      <td>-0.246249</td>\n",
       "      <td>...</td>\n",
       "      <td>-0.452108</td>\n",
       "      <td>-0.13278</td>\n",
       "      <td>-0.113892</td>\n",
       "      <td>0.244856</td>\n",
       "      <td>-0.214454</td>\n",
       "      <td>-0.589881</td>\n",
       "      <td>0.962327</td>\n",
       "      <td>-0.272904</td>\n",
       "      <td>-0.275375</td>\n",
       "      <td>-0.201189</td>\n",
       "    </tr>\n",
       "    <tr>\n",
       "      <th>2</th>\n",
       "      <td>thedarkknight</td>\n",
       "      <td>The Dark Knight</td>\n",
       "      <td>1.217448</td>\n",
       "      <td>1.259009</td>\n",
       "      <td>9.565478</td>\n",
       "      <td>3.469316</td>\n",
       "      <td>-0.208226</td>\n",
       "      <td>-0.254765</td>\n",
       "      <td>-0.52443</td>\n",
       "      <td>4.060929</td>\n",
       "      <td>...</td>\n",
       "      <td>-0.452108</td>\n",
       "      <td>-0.13278</td>\n",
       "      <td>-0.113892</td>\n",
       "      <td>0.244856</td>\n",
       "      <td>-0.214454</td>\n",
       "      <td>-0.589881</td>\n",
       "      <td>0.962327</td>\n",
       "      <td>-0.272904</td>\n",
       "      <td>-0.275375</td>\n",
       "      <td>-0.201189</td>\n",
       "    </tr>\n",
       "    <tr>\n",
       "      <th>3</th>\n",
       "      <td>avatar</td>\n",
       "      <td>Avatar</td>\n",
       "      <td>0.741320</td>\n",
       "      <td>1.412650</td>\n",
       "      <td>5.777251</td>\n",
       "      <td>3.469316</td>\n",
       "      <td>4.802478</td>\n",
       "      <td>-0.254765</td>\n",
       "      <td>-0.52443</td>\n",
       "      <td>-0.246249</td>\n",
       "      <td>...</td>\n",
       "      <td>-0.452108</td>\n",
       "      <td>-0.13278</td>\n",
       "      <td>-0.113892</td>\n",
       "      <td>0.244856</td>\n",
       "      <td>-0.214454</td>\n",
       "      <td>-0.589881</td>\n",
       "      <td>0.962327</td>\n",
       "      <td>-0.272904</td>\n",
       "      <td>-0.275375</td>\n",
       "      <td>-0.201189</td>\n",
       "    </tr>\n",
       "    <tr>\n",
       "      <th>4</th>\n",
       "      <td>theavengers</td>\n",
       "      <td>The Avengers</td>\n",
       "      <td>0.810787</td>\n",
       "      <td>1.120732</td>\n",
       "      <td>7.133097</td>\n",
       "      <td>3.469316</td>\n",
       "      <td>4.802478</td>\n",
       "      <td>-0.254765</td>\n",
       "      <td>-0.52443</td>\n",
       "      <td>-0.246249</td>\n",
       "      <td>...</td>\n",
       "      <td>-0.452108</td>\n",
       "      <td>-0.13278</td>\n",
       "      <td>-0.113892</td>\n",
       "      <td>0.244856</td>\n",
       "      <td>-0.214454</td>\n",
       "      <td>-0.589881</td>\n",
       "      <td>0.962327</td>\n",
       "      <td>-0.272904</td>\n",
       "      <td>-0.275375</td>\n",
       "      <td>-0.201189</td>\n",
       "    </tr>\n",
       "  </tbody>\n",
       "</table>\n",
       "<p>5 rows × 32 columns</p>\n",
       "</div>"
      ],
      "text/plain": [
       "           title        org_title  vote_average   runtime  popularity  \\\n",
       "0      inception        Inception      1.142404  1.197553    6.077554   \n",
       "1   interstellar     Interstellar      1.169278  1.520199   10.282470   \n",
       "2  thedarkknight  The Dark Knight      1.217448  1.259009    9.565478   \n",
       "3         avatar           Avatar      0.741320  1.412650    5.777251   \n",
       "4    theavengers     The Avengers      0.810787  1.120732    7.133097   \n",
       "\n",
       "     action  adventure  animation   comedy     crime  ...   unknown      war  \\\n",
       "0  3.469316   4.802478  -0.254765 -0.52443 -0.246249  ... -0.452108 -0.13278   \n",
       "1 -0.288241   4.802478  -0.254765 -0.52443 -0.246249  ... -0.452108 -0.13278   \n",
       "2  3.469316  -0.208226  -0.254765 -0.52443  4.060929  ... -0.452108 -0.13278   \n",
       "3  3.469316   4.802478  -0.254765 -0.52443 -0.246249  ... -0.452108 -0.13278   \n",
       "4  3.469316   4.802478  -0.254765 -0.52443 -0.246249  ... -0.452108 -0.13278   \n",
       "\n",
       "    western  adult_False  original_language_de  original_language_else  \\\n",
       "0 -0.113892     0.244856             -0.214454               -0.589881   \n",
       "1 -0.113892     0.244856             -0.214454               -0.589881   \n",
       "2 -0.113892     0.244856             -0.214454               -0.589881   \n",
       "3 -0.113892     0.244856             -0.214454               -0.589881   \n",
       "4 -0.113892     0.244856             -0.214454               -0.589881   \n",
       "\n",
       "   original_language_en  original_language_es  original_language_fr  \\\n",
       "0              0.962327             -0.272904             -0.275375   \n",
       "1              0.962327             -0.272904             -0.275375   \n",
       "2              0.962327             -0.272904             -0.275375   \n",
       "3              0.962327             -0.272904             -0.275375   \n",
       "4              0.962327             -0.272904             -0.275375   \n",
       "\n",
       "   original_language_ja  \n",
       "0             -0.201189  \n",
       "1             -0.201189  \n",
       "2             -0.201189  \n",
       "3             -0.201189  \n",
       "4             -0.201189  \n",
       "\n",
       "[5 rows x 32 columns]"
      ]
     },
     "execution_count": 40,
     "metadata": {},
     "output_type": "execute_result"
    }
   ],
   "source": [
    "df.head()"
   ]
  },
  {
   "cell_type": "markdown",
   "id": "c59fb86a",
   "metadata": {
    "papermill": {
     "duration": 0.009406,
     "end_time": "2025-02-23T16:55:04.257712",
     "exception": false,
     "start_time": "2025-02-23T16:55:04.248306",
     "status": "completed"
    },
    "tags": []
   },
   "source": [
    "Handling Duplicates"
   ]
  },
  {
   "cell_type": "code",
   "execution_count": 41,
   "id": "328ee139",
   "metadata": {
    "execution": {
     "iopub.execute_input": "2025-02-23T16:55:04.277526Z",
     "iopub.status.busy": "2025-02-23T16:55:04.277296Z",
     "iopub.status.idle": "2025-02-23T16:55:04.361970Z",
     "shell.execute_reply": "2025-02-23T16:55:04.361275Z"
    },
    "papermill": {
     "duration": 0.096378,
     "end_time": "2025-02-23T16:55:04.363611",
     "exception": false,
     "start_time": "2025-02-23T16:55:04.267233",
     "status": "completed"
    },
    "tags": []
   },
   "outputs": [],
   "source": [
    "df = df.drop_duplicates(subset=['title'])"
   ]
  },
  {
   "cell_type": "code",
   "execution_count": 42,
   "id": "6d110e49",
   "metadata": {
    "execution": {
     "iopub.execute_input": "2025-02-23T16:55:04.389882Z",
     "iopub.status.busy": "2025-02-23T16:55:04.389598Z",
     "iopub.status.idle": "2025-02-23T16:55:04.457496Z",
     "shell.execute_reply": "2025-02-23T16:55:04.456455Z"
    },
    "papermill": {
     "duration": 0.081711,
     "end_time": "2025-02-23T16:55:04.459265",
     "exception": false,
     "start_time": "2025-02-23T16:55:04.377554",
     "status": "completed"
    },
    "tags": []
   },
   "outputs": [],
   "source": [
    "df=df.set_index(['title'])\n",
    "df_fin=df.drop('org_title',axis=1)"
   ]
  },
  {
   "cell_type": "markdown",
   "id": "0d3f7bef",
   "metadata": {
    "papermill": {
     "duration": 0.01047,
     "end_time": "2025-02-23T16:55:04.482055",
     "exception": false,
     "start_time": "2025-02-23T16:55:04.471585",
     "status": "completed"
    },
    "tags": []
   },
   "source": [
    "Cosine-Similatry"
   ]
  },
  {
   "cell_type": "code",
   "execution_count": 43,
   "id": "4fa7b117",
   "metadata": {
    "execution": {
     "iopub.execute_input": "2025-02-23T16:55:04.502170Z",
     "iopub.status.busy": "2025-02-23T16:55:04.501920Z",
     "iopub.status.idle": "2025-02-23T16:55:04.541087Z",
     "shell.execute_reply": "2025-02-23T16:55:04.540198Z"
    },
    "papermill": {
     "duration": 0.050925,
     "end_time": "2025-02-23T16:55:04.542552",
     "exception": false,
     "start_time": "2025-02-23T16:55:04.491627",
     "status": "completed"
    },
    "tags": []
   },
   "outputs": [],
   "source": [
    "movie_name = 'the dark knight'\n",
    "movie_name=movie_name.strip().lower().replace(' ','')\n",
    "new_df= df_fin.loc[[movie_name]]"
   ]
  },
  {
   "cell_type": "code",
   "execution_count": 44,
   "id": "81bf8ae2",
   "metadata": {
    "execution": {
     "iopub.execute_input": "2025-02-23T16:55:04.563043Z",
     "iopub.status.busy": "2025-02-23T16:55:04.562798Z",
     "iopub.status.idle": "2025-02-23T16:55:04.566270Z",
     "shell.execute_reply": "2025-02-23T16:55:04.565478Z"
    },
    "papermill": {
     "duration": 0.014988,
     "end_time": "2025-02-23T16:55:04.567611",
     "exception": false,
     "start_time": "2025-02-23T16:55:04.552623",
     "status": "completed"
    },
    "tags": []
   },
   "outputs": [],
   "source": [
    "new_df = new_df.values.reshape(1,-1)"
   ]
  },
  {
   "cell_type": "code",
   "execution_count": 45,
   "id": "40a56895",
   "metadata": {
    "execution": {
     "iopub.execute_input": "2025-02-23T16:55:04.587912Z",
     "iopub.status.busy": "2025-02-23T16:55:04.587682Z",
     "iopub.status.idle": "2025-02-23T16:55:04.888588Z",
     "shell.execute_reply": "2025-02-23T16:55:04.887672Z"
    },
    "papermill": {
     "duration": 0.312432,
     "end_time": "2025-02-23T16:55:04.889899",
     "exception": false,
     "start_time": "2025-02-23T16:55:04.577467",
     "status": "completed"
    },
    "tags": []
   },
   "outputs": [
    {
     "data": {
      "text/html": [
       "<div>\n",
       "<style scoped>\n",
       "    .dataframe tbody tr th:only-of-type {\n",
       "        vertical-align: middle;\n",
       "    }\n",
       "\n",
       "    .dataframe tbody tr th {\n",
       "        vertical-align: top;\n",
       "    }\n",
       "\n",
       "    .dataframe thead th {\n",
       "        text-align: right;\n",
       "    }\n",
       "</style>\n",
       "<table border=\"1\" class=\"dataframe\">\n",
       "  <thead>\n",
       "    <tr style=\"text-align: right;\">\n",
       "      <th>org_title</th>\n",
       "      <th>Inception</th>\n",
       "      <th>Interstellar</th>\n",
       "      <th>Avatar</th>\n",
       "      <th>The Avengers</th>\n",
       "      <th>Deadpool</th>\n",
       "      <th>Avengers: Infinity War</th>\n",
       "      <th>Fight Club</th>\n",
       "      <th>Guardians of the Galaxy</th>\n",
       "      <th>Pulp Fiction</th>\n",
       "      <th>Forrest Gump</th>\n",
       "      <th>...</th>\n",
       "      <th>Me gusta esa chica</th>\n",
       "      <th>Raymonde El Bidaoia</th>\n",
       "      <th>Trona Pinnacles</th>\n",
       "      <th>Human Energy</th>\n",
       "      <th>Jízdní hlídka</th>\n",
       "      <th>Triomf</th>\n",
       "      <th>Kizu: The Untold Story of Unit 731</th>\n",
       "      <th>Jessico, Una Historia de Rock en Tiempos Convulsos</th>\n",
       "      <th>Henry Kissinger: Secrets of a Superpower</th>\n",
       "      <th>Dastaan</th>\n",
       "    </tr>\n",
       "  </thead>\n",
       "  <tbody>\n",
       "    <tr>\n",
       "      <th>thedarkknight</th>\n",
       "      <td>0.582434</td>\n",
       "      <td>0.669166</td>\n",
       "      <td>0.494289</td>\n",
       "      <td>0.623935</td>\n",
       "      <td>0.620006</td>\n",
       "      <td>0.729754</td>\n",
       "      <td>0.778864</td>\n",
       "      <td>0.334624</td>\n",
       "      <td>0.886324</td>\n",
       "      <td>0.693369</td>\n",
       "      <td>...</td>\n",
       "      <td>-0.153003</td>\n",
       "      <td>-0.138255</td>\n",
       "      <td>-0.075378</td>\n",
       "      <td>-0.174864</td>\n",
       "      <td>-0.048081</td>\n",
       "      <td>-0.085024</td>\n",
       "      <td>-0.087126</td>\n",
       "      <td>-0.08569</td>\n",
       "      <td>-0.05156</td>\n",
       "      <td>-0.157936</td>\n",
       "    </tr>\n",
       "  </tbody>\n",
       "</table>\n",
       "<p>1 rows × 309140 columns</p>\n",
       "</div>"
      ],
      "text/plain": [
       "org_title      Inception  Interstellar    Avatar  The Avengers  Deadpool  \\\n",
       "thedarkknight   0.582434      0.669166  0.494289      0.623935  0.620006   \n",
       "\n",
       "org_title      Avengers: Infinity War  Fight Club  Guardians of the Galaxy  \\\n",
       "thedarkknight                0.729754    0.778864                 0.334624   \n",
       "\n",
       "org_title      Pulp Fiction  Forrest Gump  ...  Me gusta esa chica  \\\n",
       "thedarkknight      0.886324      0.693369  ...           -0.153003   \n",
       "\n",
       "org_title      Raymonde El Bidaoia  Trona Pinnacles  Human Energy  \\\n",
       "thedarkknight            -0.138255        -0.075378     -0.174864   \n",
       "\n",
       "org_title      Jízdní hlídka    Triomf  Kizu: The Untold Story of Unit 731  \\\n",
       "thedarkknight      -0.048081 -0.085024                           -0.087126   \n",
       "\n",
       "org_title      Jessico, Una Historia de Rock en Tiempos Convulsos  \\\n",
       "thedarkknight                                           -0.08569    \n",
       "\n",
       "org_title      Henry Kissinger: Secrets of a Superpower   Dastaan  \n",
       "thedarkknight                                  -0.05156 -0.157936  \n",
       "\n",
       "[1 rows x 309140 columns]"
      ]
     },
     "execution_count": 45,
     "metadata": {},
     "output_type": "execute_result"
    }
   ],
   "source": [
    "from sklearn.metrics.pairwise import cosine_similarity\n",
    "df_other = df_fin.loc[df_fin.index!=movie_name,:]\n",
    "df_titles = df.loc[df.index!=movie_name,'org_title']\n",
    "cosine_sim_matrix = cosine_similarity(new_df,df_other)\n",
    "cosine_sim_df = pd.DataFrame(cosine_sim_matrix,index=[movie_name],columns=df_titles)\n",
    "\n",
    "cosine_sim_df"
   ]
  },
  {
   "cell_type": "code",
   "execution_count": 46,
   "id": "3ad7d100",
   "metadata": {
    "execution": {
     "iopub.execute_input": "2025-02-23T16:55:04.911309Z",
     "iopub.status.busy": "2025-02-23T16:55:04.911059Z",
     "iopub.status.idle": "2025-02-23T16:55:04.955645Z",
     "shell.execute_reply": "2025-02-23T16:55:04.954933Z"
    },
    "papermill": {
     "duration": 0.056756,
     "end_time": "2025-02-23T16:55:04.957063",
     "exception": false,
     "start_time": "2025-02-23T16:55:04.900307",
     "status": "completed"
    },
    "tags": []
   },
   "outputs": [],
   "source": [
    "sorted_row = cosine_sim_df.loc[movie_name].sort_values(ascending=False)[0:20]"
   ]
  },
  {
   "cell_type": "code",
   "execution_count": 47,
   "id": "5b7238e5",
   "metadata": {
    "execution": {
     "iopub.execute_input": "2025-02-23T16:55:04.979444Z",
     "iopub.status.busy": "2025-02-23T16:55:04.979045Z",
     "iopub.status.idle": "2025-02-23T16:55:04.984786Z",
     "shell.execute_reply": "2025-02-23T16:55:04.983839Z"
    },
    "papermill": {
     "duration": 0.019124,
     "end_time": "2025-02-23T16:55:04.986382",
     "exception": false,
     "start_time": "2025-02-23T16:55:04.967258",
     "status": "completed"
    },
    "tags": []
   },
   "outputs": [
    {
     "data": {
      "text/plain": [
       "'John Wick: Chapter 3 - Parabellum'"
      ]
     },
     "execution_count": 47,
     "metadata": {},
     "output_type": "execute_result"
    }
   ],
   "source": [
    "sorted_row.index[5]"
   ]
  },
  {
   "cell_type": "markdown",
   "id": "892b6045",
   "metadata": {
    "papermill": {
     "duration": 0.009835,
     "end_time": "2025-02-23T16:55:05.007259",
     "exception": false,
     "start_time": "2025-02-23T16:55:04.997424",
     "status": "completed"
    },
    "tags": []
   },
   "source": [
    "Deployment"
   ]
  },
  {
   "cell_type": "code",
   "execution_count": 48,
   "id": "e082218f",
   "metadata": {
    "execution": {
     "iopub.execute_input": "2025-02-23T16:55:05.028086Z",
     "iopub.status.busy": "2025-02-23T16:55:05.027868Z",
     "iopub.status.idle": "2025-02-23T16:55:20.461632Z",
     "shell.execute_reply": "2025-02-23T16:55:20.460911Z"
    },
    "papermill": {
     "duration": 15.445754,
     "end_time": "2025-02-23T16:55:20.462969",
     "exception": false,
     "start_time": "2025-02-23T16:55:05.017215",
     "status": "completed"
    },
    "tags": []
   },
   "outputs": [
    {
     "name": "stdout",
     "output_type": "stream",
     "text": [
      "Collecting gradio\r\n",
      "  Downloading gradio-5.17.1-py3-none-any.whl.metadata (16 kB)\r\n",
      "Requirement already satisfied: aiofiles<24.0,>=22.0 in /usr/local/lib/python3.10/dist-packages (from gradio) (22.1.0)\r\n",
      "Requirement already satisfied: anyio<5.0,>=3.0 in /usr/local/lib/python3.10/dist-packages (from gradio) (3.7.1)\r\n",
      "Collecting fastapi<1.0,>=0.115.2 (from gradio)\r\n",
      "  Downloading fastapi-0.115.8-py3-none-any.whl.metadata (27 kB)\r\n",
      "Collecting ffmpy (from gradio)\r\n",
      "  Downloading ffmpy-0.5.0-py3-none-any.whl.metadata (3.0 kB)\r\n",
      "Collecting gradio-client==1.7.1 (from gradio)\r\n",
      "  Downloading gradio_client-1.7.1-py3-none-any.whl.metadata (7.1 kB)\r\n",
      "Requirement already satisfied: httpx>=0.24.1 in /usr/local/lib/python3.10/dist-packages (from gradio) (0.28.1)\r\n",
      "Requirement already satisfied: huggingface-hub>=0.28.1 in /usr/local/lib/python3.10/dist-packages (from gradio) (0.29.0)\r\n",
      "Requirement already satisfied: jinja2<4.0 in /usr/local/lib/python3.10/dist-packages (from gradio) (3.1.4)\r\n",
      "Collecting markupsafe~=2.0 (from gradio)\r\n",
      "  Downloading MarkupSafe-2.1.5-cp310-cp310-manylinux_2_17_x86_64.manylinux2014_x86_64.whl.metadata (3.0 kB)\r\n",
      "Requirement already satisfied: numpy<3.0,>=1.0 in /usr/local/lib/python3.10/dist-packages (from gradio) (1.26.4)\r\n",
      "Requirement already satisfied: orjson~=3.0 in /usr/local/lib/python3.10/dist-packages (from gradio) (3.10.12)\r\n",
      "Requirement already satisfied: packaging in /usr/local/lib/python3.10/dist-packages (from gradio) (24.2)\r\n",
      "Requirement already satisfied: pandas<3.0,>=1.0 in /usr/local/lib/python3.10/dist-packages (from gradio) (2.2.3)\r\n",
      "Requirement already satisfied: pillow<12.0,>=8.0 in /usr/local/lib/python3.10/dist-packages (from gradio) (11.0.0)\r\n",
      "Requirement already satisfied: pydantic>=2.0 in /usr/local/lib/python3.10/dist-packages (from gradio) (2.11.0a2)\r\n",
      "Requirement already satisfied: pydub in /usr/local/lib/python3.10/dist-packages (from gradio) (0.25.1)\r\n",
      "Collecting python-multipart>=0.0.18 (from gradio)\r\n",
      "  Downloading python_multipart-0.0.20-py3-none-any.whl.metadata (1.8 kB)\r\n",
      "Requirement already satisfied: pyyaml<7.0,>=5.0 in /usr/local/lib/python3.10/dist-packages (from gradio) (6.0.2)\r\n",
      "Collecting ruff>=0.9.3 (from gradio)\r\n",
      "  Downloading ruff-0.9.7-py3-none-manylinux_2_17_x86_64.manylinux2014_x86_64.whl.metadata (25 kB)\r\n",
      "Collecting safehttpx<0.2.0,>=0.1.6 (from gradio)\r\n",
      "  Downloading safehttpx-0.1.6-py3-none-any.whl.metadata (4.2 kB)\r\n",
      "Collecting semantic-version~=2.0 (from gradio)\r\n",
      "  Downloading semantic_version-2.10.0-py2.py3-none-any.whl.metadata (9.7 kB)\r\n",
      "Collecting starlette<1.0,>=0.40.0 (from gradio)\r\n",
      "  Downloading starlette-0.46.0-py3-none-any.whl.metadata (6.2 kB)\r\n",
      "Collecting tomlkit<0.14.0,>=0.12.0 (from gradio)\r\n",
      "  Downloading tomlkit-0.13.2-py3-none-any.whl.metadata (2.7 kB)\r\n",
      "Requirement already satisfied: typer<1.0,>=0.12 in /usr/local/lib/python3.10/dist-packages (from gradio) (0.15.1)\r\n",
      "Requirement already satisfied: typing-extensions~=4.0 in /usr/local/lib/python3.10/dist-packages (from gradio) (4.12.2)\r\n",
      "Collecting uvicorn>=0.14.0 (from gradio)\r\n",
      "  Downloading uvicorn-0.34.0-py3-none-any.whl.metadata (6.5 kB)\r\n",
      "Requirement already satisfied: fsspec in /usr/local/lib/python3.10/dist-packages (from gradio-client==1.7.1->gradio) (2024.12.0)\r\n",
      "Requirement already satisfied: websockets<15.0,>=10.0 in /usr/local/lib/python3.10/dist-packages (from gradio-client==1.7.1->gradio) (14.1)\r\n",
      "Requirement already satisfied: idna>=2.8 in /usr/local/lib/python3.10/dist-packages (from anyio<5.0,>=3.0->gradio) (3.10)\r\n",
      "Requirement already satisfied: sniffio>=1.1 in /usr/local/lib/python3.10/dist-packages (from anyio<5.0,>=3.0->gradio) (1.3.1)\r\n",
      "Requirement already satisfied: exceptiongroup in /usr/local/lib/python3.10/dist-packages (from anyio<5.0,>=3.0->gradio) (1.2.2)\r\n",
      "Collecting starlette<1.0,>=0.40.0 (from gradio)\r\n",
      "  Downloading starlette-0.45.3-py3-none-any.whl.metadata (6.3 kB)\r\n",
      "Requirement already satisfied: certifi in /usr/local/lib/python3.10/dist-packages (from httpx>=0.24.1->gradio) (2025.1.31)\r\n",
      "Requirement already satisfied: httpcore==1.* in /usr/local/lib/python3.10/dist-packages (from httpx>=0.24.1->gradio) (1.0.7)\r\n",
      "Requirement already satisfied: h11<0.15,>=0.13 in /usr/local/lib/python3.10/dist-packages (from httpcore==1.*->httpx>=0.24.1->gradio) (0.14.0)\r\n",
      "Requirement already satisfied: filelock in /usr/local/lib/python3.10/dist-packages (from huggingface-hub>=0.28.1->gradio) (3.17.0)\r\n",
      "Requirement already satisfied: requests in /usr/local/lib/python3.10/dist-packages (from huggingface-hub>=0.28.1->gradio) (2.32.3)\r\n",
      "Requirement already satisfied: tqdm>=4.42.1 in /usr/local/lib/python3.10/dist-packages (from huggingface-hub>=0.28.1->gradio) (4.67.1)\r\n",
      "Requirement already satisfied: mkl_fft in /usr/local/lib/python3.10/dist-packages (from numpy<3.0,>=1.0->gradio) (1.3.8)\r\n",
      "Requirement already satisfied: mkl_random in /usr/local/lib/python3.10/dist-packages (from numpy<3.0,>=1.0->gradio) (1.2.4)\r\n",
      "Requirement already satisfied: mkl_umath in /usr/local/lib/python3.10/dist-packages (from numpy<3.0,>=1.0->gradio) (0.1.1)\r\n",
      "Requirement already satisfied: mkl in /usr/local/lib/python3.10/dist-packages (from numpy<3.0,>=1.0->gradio) (2025.0.1)\r\n",
      "Requirement already satisfied: tbb4py in /usr/local/lib/python3.10/dist-packages (from numpy<3.0,>=1.0->gradio) (2022.0.0)\r\n",
      "Requirement already satisfied: mkl-service in /usr/local/lib/python3.10/dist-packages (from numpy<3.0,>=1.0->gradio) (2.4.1)\r\n",
      "Requirement already satisfied: python-dateutil>=2.8.2 in /usr/local/lib/python3.10/dist-packages (from pandas<3.0,>=1.0->gradio) (2.9.0.post0)\r\n",
      "Requirement already satisfied: pytz>=2020.1 in /usr/local/lib/python3.10/dist-packages (from pandas<3.0,>=1.0->gradio) (2025.1)\r\n",
      "Requirement already satisfied: tzdata>=2022.7 in /usr/local/lib/python3.10/dist-packages (from pandas<3.0,>=1.0->gradio) (2025.1)\r\n",
      "Requirement already satisfied: annotated-types>=0.6.0 in /usr/local/lib/python3.10/dist-packages (from pydantic>=2.0->gradio) (0.7.0)\r\n",
      "Requirement already satisfied: pydantic-core==2.29.0 in /usr/local/lib/python3.10/dist-packages (from pydantic>=2.0->gradio) (2.29.0)\r\n",
      "Requirement already satisfied: click>=8.0.0 in /usr/local/lib/python3.10/dist-packages (from typer<1.0,>=0.12->gradio) (8.1.7)\r\n",
      "Requirement already satisfied: shellingham>=1.3.0 in /usr/local/lib/python3.10/dist-packages (from typer<1.0,>=0.12->gradio) (1.5.4)\r\n",
      "Requirement already satisfied: rich>=10.11.0 in /usr/local/lib/python3.10/dist-packages (from typer<1.0,>=0.12->gradio) (13.9.4)\r\n",
      "Requirement already satisfied: six>=1.5 in /usr/local/lib/python3.10/dist-packages (from python-dateutil>=2.8.2->pandas<3.0,>=1.0->gradio) (1.17.0)\r\n",
      "Requirement already satisfied: markdown-it-py>=2.2.0 in /usr/local/lib/python3.10/dist-packages (from rich>=10.11.0->typer<1.0,>=0.12->gradio) (3.0.0)\r\n",
      "Requirement already satisfied: pygments<3.0.0,>=2.13.0 in /usr/local/lib/python3.10/dist-packages (from rich>=10.11.0->typer<1.0,>=0.12->gradio) (2.19.1)\r\n",
      "Requirement already satisfied: intel-openmp>=2024 in /usr/local/lib/python3.10/dist-packages (from mkl->numpy<3.0,>=1.0->gradio) (2024.2.0)\r\n",
      "Requirement already satisfied: tbb==2022.* in /usr/local/lib/python3.10/dist-packages (from mkl->numpy<3.0,>=1.0->gradio) (2022.0.0)\r\n",
      "Requirement already satisfied: tcmlib==1.* in /usr/local/lib/python3.10/dist-packages (from tbb==2022.*->mkl->numpy<3.0,>=1.0->gradio) (1.2.0)\r\n",
      "Requirement already satisfied: intel-cmplr-lib-rt in /usr/local/lib/python3.10/dist-packages (from mkl_umath->numpy<3.0,>=1.0->gradio) (2024.2.0)\r\n",
      "Requirement already satisfied: charset-normalizer<4,>=2 in /usr/local/lib/python3.10/dist-packages (from requests->huggingface-hub>=0.28.1->gradio) (3.4.1)\r\n",
      "Requirement already satisfied: urllib3<3,>=1.21.1 in /usr/local/lib/python3.10/dist-packages (from requests->huggingface-hub>=0.28.1->gradio) (2.3.0)\r\n",
      "Requirement already satisfied: intel-cmplr-lib-ur==2024.2.0 in /usr/local/lib/python3.10/dist-packages (from intel-openmp>=2024->mkl->numpy<3.0,>=1.0->gradio) (2024.2.0)\r\n",
      "Requirement already satisfied: mdurl~=0.1 in /usr/local/lib/python3.10/dist-packages (from markdown-it-py>=2.2.0->rich>=10.11.0->typer<1.0,>=0.12->gradio) (0.1.2)\r\n",
      "Downloading gradio-5.17.1-py3-none-any.whl (62.3 MB)\r\n",
      "\u001b[2K   \u001b[90m━━━━━━━━━━━━━━━━━━━━━━━━━━━━━━━━━━━━━━━━\u001b[0m \u001b[32m62.3/62.3 MB\u001b[0m \u001b[31m28.5 MB/s\u001b[0m eta \u001b[36m0:00:00\u001b[0m\r\n",
      "\u001b[?25hDownloading gradio_client-1.7.1-py3-none-any.whl (321 kB)\r\n",
      "\u001b[2K   \u001b[90m━━━━━━━━━━━━━━━━━━━━━━━━━━━━━━━━━━━━━━━━\u001b[0m \u001b[32m322.0/322.0 kB\u001b[0m \u001b[31m18.7 MB/s\u001b[0m eta \u001b[36m0:00:00\u001b[0m\r\n",
      "\u001b[?25hDownloading fastapi-0.115.8-py3-none-any.whl (94 kB)\r\n",
      "\u001b[2K   \u001b[90m━━━━━━━━━━━━━━━━━━━━━━━━━━━━━━━━━━━━━━━━\u001b[0m \u001b[32m94.8/94.8 kB\u001b[0m \u001b[31m5.9 MB/s\u001b[0m eta \u001b[36m0:00:00\u001b[0m\r\n",
      "\u001b[?25hDownloading MarkupSafe-2.1.5-cp310-cp310-manylinux_2_17_x86_64.manylinux2014_x86_64.whl (25 kB)\r\n",
      "Downloading python_multipart-0.0.20-py3-none-any.whl (24 kB)\r\n",
      "Downloading ruff-0.9.7-py3-none-manylinux_2_17_x86_64.manylinux2014_x86_64.whl (12.6 MB)\r\n",
      "\u001b[2K   \u001b[90m━━━━━━━━━━━━━━━━━━━━━━━━━━━━━━━━━━━━━━━━\u001b[0m \u001b[32m12.6/12.6 MB\u001b[0m \u001b[31m105.1 MB/s\u001b[0m eta \u001b[36m0:00:00\u001b[0m\r\n",
      "\u001b[?25hDownloading safehttpx-0.1.6-py3-none-any.whl (8.7 kB)\r\n",
      "Downloading semantic_version-2.10.0-py2.py3-none-any.whl (15 kB)\r\n",
      "Downloading starlette-0.45.3-py3-none-any.whl (71 kB)\r\n",
      "\u001b[2K   \u001b[90m━━━━━━━━━━━━━━━━━━━━━━━━━━━━━━━━━━━━━━━━\u001b[0m \u001b[32m71.5/71.5 kB\u001b[0m \u001b[31m4.5 MB/s\u001b[0m eta \u001b[36m0:00:00\u001b[0m\r\n",
      "\u001b[?25hDownloading tomlkit-0.13.2-py3-none-any.whl (37 kB)\r\n",
      "Downloading uvicorn-0.34.0-py3-none-any.whl (62 kB)\r\n",
      "\u001b[2K   \u001b[90m━━━━━━━━━━━━━━━━━━━━━━━━━━━━━━━━━━━━━━━━\u001b[0m \u001b[32m62.3/62.3 kB\u001b[0m \u001b[31m4.2 MB/s\u001b[0m eta \u001b[36m0:00:00\u001b[0m\r\n",
      "\u001b[?25hDownloading ffmpy-0.5.0-py3-none-any.whl (6.0 kB)\r\n",
      "Installing collected packages: uvicorn, tomlkit, semantic-version, ruff, python-multipart, markupsafe, ffmpy, starlette, safehttpx, gradio-client, fastapi, gradio\r\n",
      "  Attempting uninstall: markupsafe\r\n",
      "    Found existing installation: MarkupSafe 3.0.2\r\n",
      "    Uninstalling MarkupSafe-3.0.2:\r\n",
      "      Successfully uninstalled MarkupSafe-3.0.2\r\n",
      "Successfully installed fastapi-0.115.8 ffmpy-0.5.0 gradio-5.17.1 gradio-client-1.7.1 markupsafe-2.1.5 python-multipart-0.0.20 ruff-0.9.7 safehttpx-0.1.6 semantic-version-2.10.0 starlette-0.45.3 tomlkit-0.13.2 uvicorn-0.34.0\r\n",
      "* Running on local URL:  http://127.0.0.1:7860\n",
      "Kaggle notebooks require sharing enabled. Setting `share=True` (you can turn this off by setting `share=False` in `launch()` explicitly).\n",
      "\n",
      "* Running on public URL: https://a9a25366b3b3895bde.gradio.live\n",
      "\n",
      "This share link expires in 72 hours. For free permanent hosting and GPU upgrades, run `gradio deploy` from the terminal in the working directory to deploy to Hugging Face Spaces (https://huggingface.co/spaces)\n"
     ]
    },
    {
     "data": {
      "text/html": [
       "<div><iframe src=\"https://a9a25366b3b3895bde.gradio.live\" width=\"100%\" height=\"500\" allow=\"autoplay; camera; microphone; clipboard-read; clipboard-write;\" frameborder=\"0\" allowfullscreen></iframe></div>"
      ],
      "text/plain": [
       "<IPython.core.display.HTML object>"
      ]
     },
     "metadata": {},
     "output_type": "display_data"
    },
    {
     "data": {
      "text/plain": []
     },
     "execution_count": 48,
     "metadata": {},
     "output_type": "execute_result"
    }
   ],
   "source": [
    "!pip install gradio\n",
    "import gradio as gr\n",
    "from sklearn.metrics.pairwise import cosine_similarity\n",
    "def predict(movie_name,no_movies):\n",
    "    movie_name=movie_name.strip().lower().replace(' ','')\n",
    "    if(movie_name in df_fin.index):\n",
    "        new_df= df_fin.loc[[movie_name]]\n",
    "        new_df = new_df.values.reshape(1,-1)\n",
    "        df_other = df_fin.loc[df_fin.index!=movie_name,:]\n",
    "        df_titles = df.loc[df.index!=movie_name,'org_title']\n",
    "        cosine_sim_matrix = cosine_similarity(new_df,df_other)\n",
    "        cosine_sim_df = pd.DataFrame(cosine_sim_matrix,index=[movie_name],columns=df_titles)\n",
    "        sorted_row = cosine_sim_df.loc[movie_name].sort_values(ascending=False)[0:int(no_movies)]\n",
    "        rec=''\n",
    "        for i in range(int(no_movies)):\n",
    "            rec+=(sorted_row.index[i])+'\\n'\n",
    "        return rec\n",
    "    else:\n",
    "        return \"Sorry, this movie isn't in our database. \\n try another one !\"\n",
    "\n",
    "# Define the Gradio interface\n",
    "interface = gr.Interface(\n",
    "    fn=predict,  # The function to be called\n",
    "    inputs=[gr.Textbox(label=\"Movie Name : \"),\n",
    "            gr.Textbox(label='No.of Recommendations: ',value= '5')],# Input type\n",
    "    outputs=gr.Textbox(label=\"Recommendations : \")  # Output type\n",
    ")\n",
    "interface.launch()"
   ]
  },
  {
   "cell_type": "code",
   "execution_count": null,
   "id": "0593b14c",
   "metadata": {
    "papermill": {
     "duration": 0.012148,
     "end_time": "2025-02-23T16:55:20.488615",
     "exception": false,
     "start_time": "2025-02-23T16:55:20.476467",
     "status": "completed"
    },
    "tags": []
   },
   "outputs": [],
   "source": []
  }
 ],
 "metadata": {
  "kaggle": {
   "accelerator": "gpu",
   "dataSources": [
    {
     "datasetId": 3816617,
     "sourceId": 10830654,
     "sourceType": "datasetVersion"
    }
   ],
   "dockerImageVersionId": 30919,
   "isGpuEnabled": true,
   "isInternetEnabled": true,
   "language": "python",
   "sourceType": "notebook"
  },
  "kernelspec": {
   "display_name": "Python 3",
   "language": "python",
   "name": "python3"
  },
  "language_info": {
   "codemirror_mode": {
    "name": "ipython",
    "version": 3
   },
   "file_extension": ".py",
   "mimetype": "text/x-python",
   "name": "python",
   "nbconvert_exporter": "python",
   "pygments_lexer": "ipython3",
   "version": "3.10.12"
  },
  "papermill": {
   "default_parameters": {},
   "duration": 42.72974,
   "end_time": "2025-02-23T16:55:22.121836",
   "environment_variables": {},
   "exception": null,
   "input_path": "__notebook__.ipynb",
   "output_path": "__notebook__.ipynb",
   "parameters": {},
   "start_time": "2025-02-23T16:54:39.392096",
   "version": "2.6.0"
  }
 },
 "nbformat": 4,
 "nbformat_minor": 5
}
